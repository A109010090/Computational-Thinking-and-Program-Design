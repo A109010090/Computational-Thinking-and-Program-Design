{
  "nbformat": 4,
  "nbformat_minor": 0,
  "metadata": {
    "colab": {
      "name": "張凱琳-Week4-補交作業.ipynb",
      "provenance": [],
      "authorship_tag": "ABX9TyMqXUCMC6RuOZ6YJGevYU1Q",
      "include_colab_link": true
    },
    "kernelspec": {
      "name": "python3",
      "display_name": "Python 3"
    }
  },
  "cells": [
    {
      "cell_type": "markdown",
      "metadata": {
        "id": "view-in-github",
        "colab_type": "text"
      },
      "source": [
        "<a href=\"https://colab.research.google.com/github/A109010090/Computational-Thinking-and-Program-Design/blob/main/%E5%BC%B5%E5%87%B1%E7%90%B3_Week4_%E8%A3%9C%E4%BA%A4%E4%BD%9C%E6%A5%AD.ipynb\" target=\"_parent\"><img src=\"https://colab.research.google.com/assets/colab-badge.svg\" alt=\"Open In Colab\"/></a>"
      ]
    },
    {
      "cell_type": "markdown",
      "metadata": {
        "id": "T2bodIelNYrv"
      },
      "source": [
        "#**隨堂練習** "
      ]
    },
    {
      "cell_type": "markdown",
      "metadata": {
        "id": "rofOdxAxeneb"
      },
      "source": [
        "#隨堂練習1:自我介紹\n",
        "(1)使用print()函數向電腦介紹自己。你的自我介紹應該顯示在主控台視窗裡，中英文均可。"
      ]
    },
    {
      "cell_type": "code",
      "metadata": {
        "colab": {
          "base_uri": "https://localhost:8080/"
        },
        "id": "OYWKWzedfctK",
        "outputId": "22d4c70f-7d44-47cb-b55a-7be72f08a77e"
      },
      "source": [
        "print(\"Hello,My name is 張凱琳. I was born in 2002.\")\n",
        "print(\"Hi, My name is 張凱琳 and I am 18 years old!\")"
      ],
      "execution_count": null,
      "outputs": [
        {
          "output_type": "stream",
          "text": [
            "Hello,My name is 張凱琳. I was bon in 2002.\n",
            "Hi, My name is 張凱琳 and I am 18 years old!\n"
          ],
          "name": "stdout"
        }
      ]
    },
    {
      "cell_type": "markdown",
      "metadata": {
        "id": "zXMAJJBTf1jU"
      },
      "source": [
        "(2)更改現有的print()函數，使用f字串。\n",
        "請創立兩個變數，name和age；然後為name變數指派你的名字字串，為age變數指派一個數學運算式，計算你的年齡。最後，使用f字串、name和age變數輸出你的簡介到電腦上！"
      ]
    },
    {
      "cell_type": "code",
      "metadata": {
        "colab": {
          "base_uri": "https://localhost:8080/"
        },
        "id": "y0oXlJ8mbZK1",
        "outputId": "8ced1379-b20d-4651-d334-7429f7903dd3"
      },
      "source": [
        "name=\"張凱琳\" \n",
        "age=\"18\"\n",
        "print(f\"Hello,My name is {name}\")\n",
        "print(f\"Hi, My name is {name} and I am {age} years old!\")"
      ],
      "execution_count": null,
      "outputs": [
        {
          "output_type": "stream",
          "text": [
            "Hello,My name is 張凱琳\n",
            "Hi, My name is 張凱琳 and I am 18 years old!\n"
          ],
          "name": "stdout"
        }
      ]
    },
    {
      "cell_type": "markdown",
      "metadata": {
        "id": "WwMLL5SyiHLC"
      },
      "source": [
        "#隨堂練習2: 引用引文\n",
        "\n",
        "在網路上搜尋名言，或者使用你自己的名言。它可以是激勵你的文字、電影中一段有趣的台詞，甚至是家人說的話。"
      ]
    },
    {
      "cell_type": "code",
      "metadata": {
        "colab": {
          "base_uri": "https://localhost:8080/"
        },
        "id": "jhojdAEZ8Cww",
        "outputId": "164a7335-43d6-4dbe-9122-442e35b644d8"
      },
      "source": [
        "print(\"We've all traveled together all this way.\")"
      ],
      "execution_count": 1,
      "outputs": [
        {
          "output_type": "stream",
          "text": [
            "We've all traveled together all this way.\n"
          ],
          "name": "stdout"
        }
      ]
    }
  ]
}