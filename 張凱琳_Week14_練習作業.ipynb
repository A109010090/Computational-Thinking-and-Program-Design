{
  "nbformat": 4,
  "nbformat_minor": 0,
  "metadata": {
    "colab": {
      "name": "張凱琳-Week14-練習作業.ipynb",
      "provenance": [],
      "authorship_tag": "ABX9TyMcpfsKW5hii8vozXoAM07W",
      "include_colab_link": true
    },
    "kernelspec": {
      "name": "python3",
      "display_name": "Python 3"
    },
    "language_info": {
      "name": "python"
    }
  },
  "cells": [
    {
      "cell_type": "markdown",
      "metadata": {
        "id": "view-in-github",
        "colab_type": "text"
      },
      "source": [
        "<a href=\"https://colab.research.google.com/github/A109010090/Computational-Thinking-and-Program-Design/blob/main/%E5%BC%B5%E5%87%B1%E7%90%B3_Week14_%E7%B7%B4%E7%BF%92%E4%BD%9C%E6%A5%AD.ipynb\" target=\"_parent\"><img src=\"https://colab.research.google.com/assets/colab-badge.svg\" alt=\"Open In Colab\"/></a>"
      ]
    },
    {
      "cell_type": "markdown",
      "metadata": {
        "id": "v43LEqkFkEAA"
      },
      "source": [
        "#**課後練習**"
      ]
    },
    {
      "cell_type": "markdown",
      "metadata": {
        "id": "ZAMDWZLFMamV"
      },
      "source": [
        "## 應⽤練習5 文字冒險旅程(Optional)\n",
        "\n",
        "深處在2D世界荒島的你，正等待救援中！\n",
        "\n",
        "被困在沙溝裡的你，只能選擇向左或向右，選擇向左爬出，終於看到了船，有機會獲救了！！\n",
        "\n",
        "選擇向右爬卻很濕滑，⼀不⼩⼼就會跌入怪異的洞穴中！......\n",
        "\n",
        "\n",
        "遊戲流程：\n",
        "\n",
        "引導使⽤者進入遊戲情境，並提⽰遊戲指令。\n",
        "\n",
        "遊戲可⽤的指令會全以⼤寫字⺟提⽰，輸入非可⽤的指令或是有⼩寫字⺟，則直接跳出\n",
        "遊戲\n",
        "\n",
        ".若有多個指令要分別處理不同分⽀。\n",
        "\n",
        ".接下來若有分⽀，應提⽰可輸入的指令。\n",
        "\n",
        ".輸入指令後顯⽰對應的訊息。\n",
        "\n",
        ".重覆上列步驟，依據輸入資訊，提⽰接下來可輸入的指令，直到完成遊戲"
      ]
    },
    {
      "cell_type": "code",
      "metadata": {
        "colab": {
          "base_uri": "https://localhost:8080/"
        },
        "id": "1qnke1Y5kbWX",
        "outputId": "05e71754-ee13-489a-b630-87b4ebf34dae"
      },
      "source": [
        "## 解題1: 輸入遊戲情境相關資訊\n",
        "print(\"You are on a deserted island in a 2D world.\")\n",
        "print(\"Try to survive until rescue arrives!\")\n",
        "print(\"Available commands are in CAPITAL letters.\")\n",
        "print(\"Any other command exits the program\")\n",
        "print(\"First LOOK around...\")"
      ],
      "execution_count": 3,
      "outputs": [
        {
          "output_type": "stream",
          "text": [
            "You are on a deserted island in a 2D world.\n",
            "Try to survive until rescue arrives!\n",
            "Available commands are in CAPITAL letters.\n",
            "Any other command exits the program\n",
            "First LOOK around...\n"
          ],
          "name": "stdout"
        }
      ]
    },
    {
      "cell_type": "code",
      "metadata": {
        "colab": {
          "base_uri": "https://localhost:8080/"
        },
        "id": "VqbjpHtaF8nR",
        "outputId": "afae2cce-35ff-4265-c400-0964ad1f4154"
      },
      "source": [
        "#解題2: 先看看周圍，只有兩個指令的冒險旅程\n",
        "#輸入指令指派給變數do\n",
        "do = input(\":: \")\n",
        "\n",
        "#若輸入LOOK後提示後續指令\n",
        "if do == \"LOOK\": #要往哪爬\n",
        " print(\"You are stuck in a sand ditch.\")\n",
        " print(\"Crawl out LEFT or RIGHT.\")\n",
        "\n",
        "#輸入分支指令I-LEFT/RIGHT\n",
        "do = input(\":: \")\n",
        "if do == \"LEFT\": #輸入LEFT指令的分支\n",
        " print(\"You see a STARFISH and a CRAB on the sand.\")\n",
        " print(\"And you're hungry! Which do you eat?\")\n",
        "\n",
        "#輸入指令指派給變數do\n",
        "do = input(\":: \") #要吃那個\n",
        "if do == \"STARFISH\":\n",
        " print(\"Oh no! You immediately don't feel well.\")\n",
        " print(\"You do not survive :(\")\n",
        "elif do == \"CRAB\":\n",
        " print(\"Raw crab should be fine, right? YES or NO.\")\n",
        "\n",
        "#輸入指令指派給變數do\n",
        "do = input(\":: \") #要吃生螃蟹嗎？\n",
        "if do == \"YES\":\n",
        " print(\"Ok, You eat it raw. Fingers crossed.\")\n",
        " print(\"Food in your belly helps you see a TREE.\")\n",
        "\n",
        "#輸入指令指派給變數do\n",
        "do = input(\":: \") #看到一棵樹\n",
        "if do == \"TREE\":\n",
        " print(\"It's a coconut tree! And you're thirsty!\")\n",
        " print(\"Do you drink the coconut water? YES or NO.\")\n",
        "\n",
        "#輸入指令指派給變數do\n",
        "do = input(\":: \")# 喝椰子水嗎？\n",
        "if do == \"YES\":\n",
        " print(\"Oh boy. Coconut water and rawcrab don't mix.\")\n",
        " print(\"You do not survive :(\")\n",
        "elif do == \"NO\":\n",
        " print(\"Good choice.\")\n",
        " print(\"Look! It's a rescue plane! You made it!\\o/\")\n",
        "elif do == \"NO\":\n",
        " print(\"Well, there's nothing else left to eat.\")\n",
        " print(\"You do not survive :(\")\n",
        "elif do == \"RIGHT\": #輸入RIGHT指令的分支\n",
        " print(\"No can do. That side is very slippery.\")\n",
        " print(\"You fall very far into some weird cavern.\")\n",
        " print(\"You do not survive :(\")\n",
        "else: #輸入提示外的指令，提醒重新輸入\n",
        " print(\"You can only do actions shown in capital letters.\")\n",
        " print(\"Try again!\")"
      ],
      "execution_count": 6,
      "outputs": [
        {
          "output_type": "stream",
          "text": [
            ":: LOOK\n",
            "You are stuck in a sand ditch.\n",
            "Crawl out LEFT or RIGHT.\n",
            ":: LEFT\n",
            "You see a STARFISH and a CRAB on the sand.\n",
            "And you're hungry! Which do you eat?\n",
            ":: CRAB\n",
            "Raw crab should be fine, right? YES or NO.\n",
            ":: YES\n",
            "Ok, You eat it raw. Fingers crossed.\n",
            "Food in your belly helps you see a TREE.\n",
            ":: TREE\n",
            "It's a coconut tree! And you're thirsty!\n",
            "Do you drink the coconut water? YES or NO.\n",
            ":: YES\n",
            "Oh boy. Coconut water and rawcrab don't mix.\n",
            "You do not survive :(\n"
          ],
          "name": "stdout"
        }
      ]
    },
    {
      "cell_type": "markdown",
      "metadata": {
        "id": "ZhQFRUD9LSyD"
      },
      "source": [
        "## 應⽤練習3: 剪⼑⽯頭布\n",
        "⽬標: 設計和電腦對戰的遊戲"
      ]
    },
    {
      "cell_type": "code",
      "metadata": {
        "colab": {
          "base_uri": "https://localhost:8080/"
        },
        "id": "vrtUbdpTLXrS",
        "outputId": "6c52c848-e7ea-46be-b9c6-e96990dc81d4"
      },
      "source": [
        "## 我隨自己的意思出拳，電腦則是隨機出拳\n",
        "my = int(input(\"請出拳 [0] 剪刀 [1] 石頭 [2] 布\"))\n",
        "print(\"我出拳為\", my)\n",
        "import random # 載入random模組\n",
        "computer = random.randint(0, 2) # 使用random模組中的函數randint()\n",
        "print(\"電腦出拳為\", computer)\n",
        "\n",
        "## 方法一：兩邊出拳比輸贏，一共有3*3 = 9種可能性。\n",
        "### 那麼用巢狀的三項選擇，就可以寫出9個結果決定勝負！\n",
        "if my == 0:\n",
        " if computer == 0:\n",
        "  print('平手')\n",
        " elif computer == 1:\n",
        "  print('電腦獲勝')\n",
        " else:\n",
        "  print('玩家獲勝')\n",
        "elif my == 1:\n",
        " if computer == 0:\n",
        "  print('玩家獲勝')\n",
        " elif computer == 1:\n",
        "  print('平手')\n",
        " else:\n",
        "  print('電腦獲勝')\n",
        "else:\n",
        " if computer == 1:\n",
        "  print('電腦獲勝')\n",
        " elif computer == 2:\n",
        "  print('玩家獲勝')\n",
        " else:\n",
        "  print('平手')"
      ],
      "execution_count": 7,
      "outputs": [
        {
          "output_type": "stream",
          "text": [
            "請出拳 [0] 剪刀 [1] 石頭 [2] 布0\n",
            "我出拳為 0\n",
            "電腦出拳為 2\n",
            "玩家獲勝\n"
          ],
          "name": "stdout"
        }
      ]
    },
    {
      "cell_type": "code",
      "metadata": {
        "colab": {
          "base_uri": "https://localhost:8080/"
        },
        "id": "H-Y69DjUL58y",
        "outputId": "d1652657-a9e2-4053-8497-44229aa66891"
      },
      "source": [
        "## 方法二：把輸贏和平手的意義找出來？（找Pattern)\n",
        "## => 剪刀石頭布是下個拳贏前個拳的遊戲。（石頭贏剪刀，布贏石頭，剪刀贏布）\n",
        "## => 如果換成選數字，就是下個數字贏前個數字的遊戲。\n",
        "## 拳: [0] 剪刀 [1] 石頭 [2] 布\n",
        "## => 剪刀石頭布的本質是比大小，比大小用數字比會比用東西好，會比的比較順！\n",
        "if my == (computer + 1) % 3:\n",
        " print(\"我贏了\")\n",
        "elif my == computer:\n",
        " print(\"平手\")\n",
        "else:\n",
        " print(\"我輸了\")"
      ],
      "execution_count": 8,
      "outputs": [
        {
          "output_type": "stream",
          "text": [
            "我贏了\n"
          ],
          "name": "stdout"
        }
      ]
    },
    {
      "cell_type": "markdown",
      "metadata": {
        "id": "tG-tfVg0MH9F"
      },
      "source": [
        "## 加分題: 棒打老虎雞吃蟲\n",
        "\n",
        "[棒打老虎雞吃蟲]跟[剪⼑⽯頭布]是類似的遊戲，練習⼀下你是否也可以寫出類似的⼩遊戲呢？\n",
        "\n",
        "～寫程式只是把你中文思考的邏輯，⽤更清晰的⽅式轉換成為程式！"
      ]
    },
    {
      "cell_type": "code",
      "metadata": {
        "colab": {
          "base_uri": "https://localhost:8080/"
        },
        "id": "1-F3AEm6MCBp",
        "outputId": "070a0a76-5d59-49a3-ee51-2eb05374ea82"
      },
      "source": [
        "my_choice = int(input(\"請出拳 [0] 蟲 [1] 雞 [2] 老虎 [3] 棒⼦\"))\n",
        "print(\"你出的拳:\", my_choice)\n",
        "import random\n",
        "com_choice = random.randint(0, 3)\n",
        "print(\"電腦出拳為\", com_choice)\n",
        "\n",
        "# 後⾯勝前⾯，其他平⼿\n",
        "if my_choice == (com_choice + 1) % 4:\n",
        " print(\"我贏了\")\n",
        "elif com_choice == (my_choice + 1) % 4:\n",
        " print(\"電腦贏了\")\n",
        "else:\n",
        " print(\"平⼿\")\n"
      ],
      "execution_count": 9,
      "outputs": [
        {
          "output_type": "stream",
          "text": [
            "請出拳 [0] 蟲 [1] 雞 [2] 老虎 [3] 棒⼦3\n",
            "你出的拳: 3\n",
            "電腦出拳為 1\n",
            "平⼿\n"
          ],
          "name": "stdout"
        }
      ]
    },
    {
      "cell_type": "code",
      "metadata": {
        "id": "8SMiGZGQMVO8"
      },
      "source": [
        ""
      ],
      "execution_count": null,
      "outputs": []
    }
  ]
}