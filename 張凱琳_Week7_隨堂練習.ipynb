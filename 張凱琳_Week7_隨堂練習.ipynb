{
  "nbformat": 4,
  "nbformat_minor": 0,
  "metadata": {
    "colab": {
      "name": "張凱琳-Week7-隨堂練習.ipynb",
      "provenance": [],
      "authorship_tag": "ABX9TyOEV0Cy+Z1AfL86ke2Cad1z",
      "include_colab_link": true
    },
    "kernelspec": {
      "name": "python3",
      "display_name": "Python 3"
    },
    "language_info": {
      "name": "python"
    }
  },
  "cells": [
    {
      "cell_type": "markdown",
      "metadata": {
        "id": "view-in-github",
        "colab_type": "text"
      },
      "source": [
        "<a href=\"https://colab.research.google.com/github/A109010090/Computational-Thinking-and-Program-Design/blob/main/%E5%BC%B5%E5%87%B1%E7%90%B3_Week7_%E9%9A%A8%E5%A0%82%E7%B7%B4%E7%BF%92.ipynb\" target=\"_parent\"><img src=\"https://colab.research.google.com/assets/colab-badge.svg\" alt=\"Open In Colab\"/></a>"
      ]
    },
    {
      "cell_type": "markdown",
      "metadata": {
        "id": "vHr-jNmOtH7Q"
      },
      "source": [
        "#**III. 課後練習**"
      ]
    },
    {
      "cell_type": "markdown",
      "metadata": {
        "id": "qf8uZyQ6tSmn"
      },
      "source": [
        "#練習3: 變數賦值，小猴子摘水果\n",
        "有一天，一隻小猴子來到果園裡，牠走道蘋果樹下，看到滿樹的蘋果，就爬上去摘了2個。又看到不滿的地方有一個梨子樹，又大又黃，就丟掉蘋果，爬到梨子樹摘了1個梨子。正準備吃的時候，看到前方又紅又大的桃子樹，就又高高興興地跑到桃樹上，摘了3個桃子。這時傳來小鳥的叫聲，鳥在香蕉樹上，當然就立馬飛奔去摘香蕉，最後吃了6根香蕉。請問這隻猴子摘了多少個水果，手中最後的水果是什麼？請你用Python記錄一下！"
      ]
    },
    {
      "cell_type": "code",
      "metadata": {
        "colab": {
          "base_uri": "https://localhost:8080/"
        },
        "id": "FtI7TsJEtEQg",
        "outputId": "140d612a-7457-4bce-aa8b-e5b3bfca5277"
      },
      "source": [
        "total = 0\n",
        "\n",
        "fruit = \"Apple\"\n",
        "number = 2\n",
        "total = total + number\n",
        "print(\"摘了\",fruit,\"摘了\",number,\"個，總共摘了\", total, \"個水果\")\n",
        "print(f\"摘了{fruit}、摘了{number},總共摘了{total}個水果\")\n",
        "\n",
        "[18]\n",
        "total = 0\n",
        "\n",
        "fruit = \"Peach\"\n",
        "number = 3\n",
        "total = total + number\n",
        "print(\"摘了\",fruit,\"摘了\",number,\"個，總共摘了\", total, \"個水果\")\n",
        "print(f\"摘了{fruit}、摘了{number},總共摘了{total}個水果\")"
      ],
      "execution_count": 12,
      "outputs": [
        {
          "output_type": "stream",
          "text": [
            "摘了 Apple 摘了 2 個，總共摘了 2 個水果\n",
            "摘了Apple、摘了2,總共摘了2個水果\n",
            "摘了 Peach 摘了 3 個，總共摘了 3 個水果\n",
            "摘了Peach、摘了3,總共摘了3個水果\n"
          ],
          "name": "stdout"
        }
      ]
    },
    {
      "cell_type": "code",
      "metadata": {
        "colab": {
          "base_uri": "https://localhost:8080/"
        },
        "id": "uQl8r9MCtZ4u",
        "outputId": "f0feed84-811c-4116-e6b6-39099341486d"
      },
      "source": [
        "name = input('請問貴姓大名?')\n",
        "print('你好,', name)"
      ],
      "execution_count": 13,
      "outputs": [
        {
          "output_type": "stream",
          "text": [
            "請問貴姓大名?chang\n",
            "你好, chang\n"
          ],
          "name": "stdout"
        }
      ]
    },
    {
      "cell_type": "code",
      "metadata": {
        "colab": {
          "base_uri": "https://localhost:8080/"
        },
        "id": "8sxnVo7PjWoI",
        "outputId": "673fa9ba-6a66-44f2-b2dd-e273e05560cb"
      },
      "source": [
        "weight = eval(input('請問體重?'))\n",
        "print(type(weight))\n",
        "print('體重為', weight)"
      ],
      "execution_count": 5,
      "outputs": [
        {
          "output_type": "stream",
          "text": [
            "請問體重?0\n",
            "<class 'int'>\n",
            "體重為 0\n"
          ],
          "name": "stdout"
        }
      ]
    },
    {
      "cell_type": "code",
      "metadata": {
        "colab": {
          "base_uri": "https://localhost:8080/"
        },
        "id": "fF2B5VABjzrJ",
        "outputId": "250dd7cc-d554-4f93-fbfb-cec57ff91e2e"
      },
      "source": [
        "## Input\n",
        "PI = 3.14\n",
        "r1 = input(\"Enter radius 1:\")\n",
        "r2 = input(\"Enter radius 2:\")\n",
        "r1 = float(r1)\n",
        "r2 = float(r2)\n",
        "\n",
        "## Process\n",
        "area1 = PI * r1  *r1\n",
        "area2 = PI * r2  *r2\n",
        "area3 = area1 - area2"
      ],
      "execution_count": 10,
      "outputs": [
        {
          "output_type": "stream",
          "text": [
            "Enter radius 1:8\n",
            "Enter radius 2:6\n"
          ],
          "name": "stdout"
        }
      ]
    },
    {
      "cell_type": "code",
      "metadata": {
        "colab": {
          "base_uri": "https://localhost:8080/"
        },
        "id": "mISuvKqHsKzI",
        "outputId": "52b5c066-e5e5-48f9-914d-506aa42b8ec4"
      },
      "source": [
        "r1 = eval(input(\"輸入外圓的直徑:\"))\n",
        "r2 = eval(input(\"輸入內圓的直徑:\"))\n",
        "s1 = 3.14 * r1/2 * r1/2\n",
        "s2 = 3.14 * r2/2 * r2/2\n",
        "s3 = s1 - s2\n",
        "print(\"外圓面積為\",s1)\n",
        "print(\"內圓面積為\",s2)\n",
        "print(\"圓環面積為\",s3)"
      ],
      "execution_count": 11,
      "outputs": [
        {
          "output_type": "stream",
          "text": [
            "輸入外圓的直徑:8\n",
            "輸入內圓的直徑:6\n",
            "外圓面積為 50.24\n",
            "內圓面積為 28.259999999999998\n",
            "圓環面積為 21.980000000000004\n"
          ],
          "name": "stdout"
        }
      ]
    },
    {
      "cell_type": "markdown",
      "metadata": {
        "id": "7s23331UqwsI"
      },
      "source": [
        "#**隨堂練習: 英制轉公制**"
      ]
    },
    {
      "cell_type": "code",
      "metadata": {
        "colab": {
          "base_uri": "https://localhost:8080/"
        },
        "id": "fNkFmHE0pdyR",
        "outputId": "4bd762bc-8f76-4506-e5c2-c53fec8c5a4a"
      },
      "source": [
        "f = int(input('請輸入幾尺?'))\n",
        "i = int(input('請輸入幾吋?'))\n",
        "ans = (f*12+i)*2.54\n",
        "print('轉換成',ans,'公分')"
      ],
      "execution_count": 7,
      "outputs": [
        {
          "output_type": "stream",
          "text": [
            "請輸入幾尺?5\n",
            "請輸入幾吋?8\n",
            "轉換成 172.72 公分\n"
          ],
          "name": "stdout"
        }
      ]
    }
  ]
}