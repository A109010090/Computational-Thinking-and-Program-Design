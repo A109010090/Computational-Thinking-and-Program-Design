{
  "nbformat": 4,
  "nbformat_minor": 0,
  "metadata": {
    "colab": {
      "name": "張凱琳-Week9-練習作業.ipynb",
      "provenance": [],
      "authorship_tag": "ABX9TyPGS0+ctXNRFMs1PcsQJLPo",
      "include_colab_link": true
    },
    "kernelspec": {
      "name": "python3",
      "display_name": "Python 3"
    },
    "language_info": {
      "name": "python"
    }
  },
  "cells": [
    {
      "cell_type": "markdown",
      "metadata": {
        "id": "view-in-github",
        "colab_type": "text"
      },
      "source": [
        "<a href=\"https://colab.research.google.com/github/A109010090/Computational-Thinking-and-Program-Design/blob/main/%E5%BC%B5%E5%87%B1%E7%90%B3_Week9_%E7%B7%B4%E7%BF%92%E4%BD%9C%E6%A5%AD.ipynb\" target=\"_parent\"><img src=\"https://colab.research.google.com/assets/colab-badge.svg\" alt=\"Open In Colab\"/></a>"
      ]
    },
    {
      "cell_type": "markdown",
      "metadata": {
        "id": "CNnXoVvKk2md"
      },
      "source": [
        "##隨堂練習\n"
      ]
    },
    {
      "cell_type": "markdown",
      "metadata": {
        "id": "IwXE0Zr3v5XW"
      },
      "source": [
        "**練習12：格式化輸出，明星檔案**\n",
        "\n",
        "用Python語言編制一個明星檔案，帶你認識創造Python程式語言的大神！\n"
      ]
    },
    {
      "cell_type": "code",
      "metadata": {
        "colab": {
          "base_uri": "https://localhost:8080/"
        },
        "id": "drNIcbUUk6RB",
        "outputId": "ecb1586d-bcb4-43b5-e534-2ee276c0bb65"
      },
      "source": [
        "name = \"吉多˙范羅蘇姆\"\n",
        "birthday = \"1956年1月31日\"\n",
        "birthplace = \"荷蘭\"\n",
        "occupation = \"程序員、作家\"\n",
        "print(\"Python創始人檔案:\\n 姓名:{}\\n 生日:{}\\n 國籍;{}\\n 職業;{}\".format(name,birthday,birthplace,occupation))"
      ],
      "execution_count": 9,
      "outputs": [
        {
          "output_type": "stream",
          "text": [
            "Python創始人檔案:\n",
            " 姓名:吉多˙范羅蘇姆\n",
            " 生日:1956年1月31日\n",
            " 國籍;荷蘭\n",
            " 職業;程序員、作家\n"
          ],
          "name": "stdout"
        }
      ]
    },
    {
      "cell_type": "markdown",
      "metadata": {
        "id": "K70-c0HJqS-G"
      },
      "source": [
        "**練習15：長跑健將**\n",
        "\n",
        "梁小星很喜歡運動，每天都堅持跑步5公里，為此他還買了一個手環。觀看手環可以記錄步數、距離、速度、時間等數據。梁小星想用Python寫一個統計時間的程式，你可以幫幫他嗎？(06'32, 07'21, 05,51, 07'03, 05'48)"
      ]
    },
    {
      "cell_type": "markdown",
      "metadata": {
        "id": "5xvEeuSZrlzF"
      },
      "source": [
        "步驟:\n",
        "\n",
        "第一步:將第1公里用時6分32秒累加賦值給sum，賦值=sum+6*60+32。\n",
        "\n",
        "第二步:將第2公里用時7分21秒累加賦值給sum，賦值=sum+7*60+21。\n",
        "\n",
        "第三步:將第3公里用時5分51秒累加賦值給sum，賦值=sum+5*60+51。\n",
        "\n",
        "第四步:將第4公里用時7分3秒累加賦值給sum，賦值=sum+7*60+3。\n",
        "\n",
        "第四步:將第5公里用時5分48秒累加賦值給sum，賦值=sum+5*60+48。\n",
        "\n",
        "第六步:輸出累積用時，所用分鐘用int(sum/60)表示，所用秒sum%60表示。"
      ]
    },
    {
      "cell_type": "code",
      "metadata": {
        "colab": {
          "base_uri": "https://localhost:8080/"
        },
        "id": "VlEpP6TnqVUM",
        "outputId": "d3773723-b72e-4518-f560-d45e1c8996db"
      },
      "source": [
        "sum = 6*60 + 32\n",
        "print(\"用時\",sum//60,\"分\",sum%60,\"秒\")\n",
        "\n",
        "sum = sum + 7*60 + 21\n",
        "print(\"用時\",sum//60,\"分\",sum%60,\"秒\")\n",
        "\n",
        "sum = sum + 5*60 + 51\n",
        "print(\"用時\",sum//60,\"分\",sum%60,\"秒\")\n",
        "\n",
        "sum = sum + 7*60 + 3\n",
        "print(\"用時\",sum//60,\"分\",sum%60,\"秒\")\n",
        "\n",
        "sum = sum + 5*60 + 48\n",
        "print(\"用時\",sum//60,\"分\",sum%60,\"秒\")"
      ],
      "execution_count": 10,
      "outputs": [
        {
          "output_type": "stream",
          "text": [
            "用時 6 分 32 秒\n",
            "用時 13 分 53 秒\n",
            "用時 19 分 44 秒\n",
            "用時 26 分 47 秒\n",
            "用時 32 分 35 秒\n"
          ],
          "name": "stdout"
        }
      ]
    },
    {
      "cell_type": "markdown",
      "metadata": {
        "id": "KlgVgscRtrjG"
      },
      "source": [
        "#### 4-2-1. 抽象化 - 電影魔球"
      ]
    },
    {
      "cell_type": "code",
      "metadata": {
        "colab": {
          "base_uri": "https://localhost:8080/"
        },
        "id": "AMSPlLeytr6E",
        "outputId": "43057fc3-34df-4c75-d281-c03c500dc66d"
      },
      "source": [
        "## 1. 從IMBD電影資料庫找出要記錄的魔球電影相關資訊\n",
        "## 網址：https://www.imdb.com/title/tt1210166/\n",
        "## 相關資訊：電影名稱、放映日期......\n",
        " \n",
        "## 2. 在Python用變數儲存資訊\n",
        "movie_title = \"money ball\" # 電影名稱\n",
        "release_year = \"2011\"  # 放映日期\n",
        "movie_time_min = 133 # 片長\n",
        "movie_rating = 7.6 #評分\n",
        " \n",
        "director = \"Bennett Miller\" # 導演\n",
        "stars_1 = \"Brad Pitt\" #主要演員\n",
        "stars_3 = \"Jonah Hill\" \n",
        " \n",
        "like = 1 # 你喜不喜歡\n",
        " \n",
        "## 3. 印出魔球電影的相關資訊\n",
        "print(movie_title)  #螢幕列印\n",
        "print(release_year)\n",
        "print(movie_time_min)"
      ],
      "execution_count": 15,
      "outputs": [
        {
          "output_type": "stream",
          "text": [
            "money ball\n",
            "2011\n",
            "133\n"
          ],
          "name": "stdout"
        }
      ]
    },
    {
      "cell_type": "markdown",
      "metadata": {
        "id": "OFB8P957umlH"
      },
      "source": [
        "#### 4-2-2.  演算法 - 時間轉換"
      ]
    },
    {
      "cell_type": "code",
      "metadata": {
        "colab": {
          "base_uri": "https://localhost:8080/"
        },
        "id": "buT_JJ1-unQk",
        "outputId": "2e3ee95a-0c9a-4286-af19-e49f018edd32"
      },
      "source": [
        "# 將123分鐘轉成2小時3分鐘\n",
        "## 1. 建立變數，輸入資料並儲存\n",
        "time = 123\n",
        " \n",
        "## 2. 方法（一）\n",
        "## 變數轉換為小時數\n",
        "hours = time/60 # 123/60 = 2.05\n",
        "hours1 = int(hours) #取整數為「時」\n",
        " \n",
        "## 取得轉換後的分鐘數\n",
        "minutes = hours1 - hours #2.05-2 = 0.05\n",
        "minutes1 = round(minutes*60) # 0.05*60 = 3，但要四捨五入 \n",
        " \n",
        "## 3. 顯示結果\n",
        "print(time, \"is equal to\", hours1, \"Hours and\", minutes1, \"Minutes\")"
      ],
      "execution_count": 17,
      "outputs": [
        {
          "output_type": "stream",
          "text": [
            "123 is equal to 2 Hours and -3 Minutes\n"
          ],
          "name": "stdout"
        }
      ]
    },
    {
      "cell_type": "code",
      "metadata": {
        "colab": {
          "base_uri": "https://localhost:8080/"
        },
        "id": "2_5cjcguuwMc",
        "outputId": "09703208-86f3-47e0-ff0e-f3fee2dff9f6"
      },
      "source": [
        "# 1. 建立變數，輸入資料並儲存\n",
        "time = 123\n",
        "\n",
        "# 2. 方法（二）運算子\n",
        "hours2 = time // 60  #商數為小時數\n",
        "minutes2 = time % 60  #餘數為分鐘數\n",
        "\n",
        "# 3. 顯示結果\n",
        "print(time, \"is equal to\", hours2, \"Hours and\", minutes2, \"Minutes\")"
      ],
      "execution_count": 18,
      "outputs": [
        {
          "output_type": "stream",
          "text": [
            "123 is equal to 2 Hours and 3 Minutes\n"
          ],
          "name": "stdout"
        }
      ]
    },
    {
      "cell_type": "markdown",
      "metadata": {
        "id": "AHa4KrjovI9F"
      },
      "source": [
        "#### 4-2-3. 模式辨識 - 報告分組\n",
        "\n",
        "**範例說明：報告分組**\n",
        "\n",
        "因為教學需求，全班40位同學要進行分組報告，每五位同學一組，老師規定依座號順序分組，也就是1號到5號一組，6號到10號一組，請寫一個程式允許使用者輸入座號，輸出分組的組別。"
      ]
    },
    {
      "cell_type": "markdown",
      "metadata": {
        "id": "GGF9IzZPxsUN"
      },
      "source": [
        "～預覽結果\n",
        "輸入座號，例如「19」，計算結果顯示在螢幕如下。\n",
        "請輸入座號？19\n",
        "組別為 4\n",
        "\n",
        "～運算思維：模式辨識\n",
        "\n",
        "1 ，1/5 ......= 0.2  -> 商數0餘數1 ->  0,0\n",
        "\n",
        "2，2/5 ......= 0.4   -> 商數0餘數2 ->  0,1\n",
        "\n",
        "3，3/5 ......= 0.6   ->  商數0餘數3 -> 0,2\n",
        "\n",
        "4， 4/5 ......= 0.8  ->  商數0餘數4 -> 0,3\n",
        "\n",
        "5，5/5 ...... = 1     ->  商數1餘數0 -> 0,4"
      ]
    },
    {
      "cell_type": "code",
      "metadata": {
        "colab": {
          "base_uri": "https://localhost:8080/"
        },
        "id": "7d2ZqxqDvmfl",
        "outputId": "756214ea-c595-4c6b-a15f-4c30484e3091"
      },
      "source": [
        "seats = int(input('請輸入座號？'))\n",
        "groups = (seats - 1)//5 + 1\n",
        "print('組別為', groups)"
      ],
      "execution_count": 22,
      "outputs": [
        {
          "output_type": "stream",
          "text": [
            "請輸入座號？19\n",
            "組別為 4\n"
          ],
          "name": "stdout"
        }
      ]
    },
    {
      "cell_type": "code",
      "metadata": {
        "colab": {
          "base_uri": "https://localhost:8080/"
        },
        "id": "xGzP01fBvPwV",
        "outputId": "9d7dcbd4-bbeb-4671-ef61-e15041981e8e"
      },
      "source": [
        "## 運算思維 - 模式辨識\n",
        "## 方法（一）：餘數位置從0開始 + 商數為組數\n",
        "seats = int(input('請輸入座號？')) #文字轉數字\n",
        "groups = (seats - 1)//5 + 1\n",
        "print('組別為', groups)\n",
        "\n",
        "## 方法（二）：函式（上限為組別）\n",
        "import math\n",
        "seats = int(input(\"請輸入座號？\"))\n",
        "groups = math.ceil(seats/5)\n",
        "print(\"組別為\",groups)\n",
        "\n",
        "## 方法（三）：用餘數為條件分組\n",
        "seats = int(input(\"請輸入座號？ \"))\n",
        "if seats%5 == 0:\n",
        "    print(\"組別為\", seats//5)\n",
        "else:\n",
        "    print(\"組別為\", seats//5 +1)"
      ],
      "execution_count": 23,
      "outputs": [
        {
          "output_type": "stream",
          "text": [
            "請輸入座號？19\n",
            "組別為 4\n",
            "請輸入座號？19\n",
            "組別為 4\n",
            "請輸入座號？ 19\n",
            "組別為 4\n"
          ],
          "name": "stdout"
        }
      ]
    }
  ]
}