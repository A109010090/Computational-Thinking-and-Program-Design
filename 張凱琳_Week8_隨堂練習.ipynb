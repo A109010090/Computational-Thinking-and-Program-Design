{
  "nbformat": 4,
  "nbformat_minor": 0,
  "metadata": {
    "colab": {
      "name": "張凱琳-Week8-隨堂練習.ipynb",
      "provenance": [],
      "authorship_tag": "ABX9TyMdFtvj6e0ffbEM09seahHV",
      "include_colab_link": true
    },
    "kernelspec": {
      "name": "python3",
      "display_name": "Python 3"
    },
    "language_info": {
      "name": "python"
    }
  },
  "cells": [
    {
      "cell_type": "markdown",
      "metadata": {
        "id": "view-in-github",
        "colab_type": "text"
      },
      "source": [
        "<a href=\"https://colab.research.google.com/github/A109010090/Computational-Thinking-and-Program-Design/blob/main/%E5%BC%B5%E5%87%B1%E7%90%B3_Week8_%E9%9A%A8%E5%A0%82%E7%B7%B4%E7%BF%92.ipynb\" target=\"_parent\"><img src=\"https://colab.research.google.com/assets/colab-badge.svg\" alt=\"Open In Colab\"/></a>"
      ]
    },
    {
      "cell_type": "markdown",
      "metadata": {
        "id": "w5S3ZwLS5qH5"
      },
      "source": [
        "#範例練習4-4: 服裝訂購系統\n",
        "假設上衣300元、褲子350元與背心400元,使用者可以自行輸入三種服裝的數量,\n",
        "請設計一個程式計算訂購服裝的總金額。\n",
        "\n",
        "~解題想法\n",
        "\n",
        "將上衣、褲子與背心訂購數量依序指定到三個整數變數中,乘以對應的價格,再加總\n",
        "起來。\n",
        "\n",
        "本題會使用到運算子的乘法( * )、加法(+) 與指定運算子(=)。"
      ]
    },
    {
      "cell_type": "code",
      "metadata": {
        "colab": {
          "base_uri": "https://localhost:8080/"
        },
        "id": "0z0g-Qkt5zab",
        "outputId": "d34d7ec7-8319-4848-83ef-46d3a5719e22"
      },
      "source": [
        "# Total = P1*Q1 + P2*Q2 + P3*Q3\n",
        "## Input Data\n",
        "cloth = int(input('請輸入上衣數量?'))\n",
        "trousers = int(input('請輸入褲子數量?'))\n",
        "vest = int(input('請輸入背心數量?'))\n",
        "## Process\n",
        "total = cloth*300 + trousers*350 + vest*400\n",
        "## Output\n",
        "print('訂購服裝的總金額為', total)"
      ],
      "execution_count": 30,
      "outputs": [
        {
          "output_type": "stream",
          "text": [
            "請輸入上衣數量?10\n",
            "請輸入褲子數量?8\n",
            "請輸入背心數量?5\n",
            "訂購服裝的總金額為 7800\n"
          ],
          "name": "stdout"
        }
      ]
    },
    {
      "cell_type": "markdown",
      "metadata": {
        "id": "5ew4SekEcqjn"
      },
      "source": [
        "##範例練習4-5: 賣場買飲料\n",
        "為了刺激銷售量,賣場通常買一打會比買一罐便宜,假設一罐賣20元,一打賣200\n",
        "元,請設計一個程式計算買幾罐需花多少錢,若不足一打就個別買。\n",
        "~預覽結果\n",
        "輸入購買飲料的罐數,如「30」,計算結果顯示在螢幕如下。\n",
        "請輸入購買飲料的罐數?30\n",
        "需花費 520"
      ]
    },
    {
      "cell_type": "code",
      "metadata": {
        "colab": {
          "base_uri": "https://localhost:8080/"
        },
        "id": "r3T88ExLc3Bj",
        "outputId": "881c1445-bfcf-47ce-9c1b-36b63c521eaf"
      },
      "source": [
        " # Total = 200 + 20\n",
        "## Input Data\n",
        "cans = int(input('請輸入購買飲料的罐數?')) \n",
        " ## Process\n",
        " total = (cans//12)*200 + (cans%12)*20\n",
        " ## Output\n",
        " print('需花費', total)"
      ],
      "execution_count": null,
      "outputs": [
        {
          "output_type": "stream",
          "text": [
            "請輸入購買飲料的罐數?30\n",
            "需花費 520\n"
          ],
          "name": "stdout"
        }
      ]
    },
    {
      "cell_type": "markdown",
      "metadata": {
        "id": "3c9vKCiv6SEd"
      },
      "source": [
        "#範例練習4-6:求三數總和與平均\n",
        "求第一次期中考、第二次期中考與期末考成績,成績皆為整數,請計算分數的加總與\n",
        "平均。\n",
        "\n",
        "~預覽結果\n",
        "\n",
        "第一次期中考輸入「75」,第二次期中考輸入「80」,期末考輸入「65」,計算結\n",
        "果顯示在螢幕。"
      ]
    },
    {
      "cell_type": "code",
      "metadata": {
        "colab": {
          "base_uri": "https://localhost:8080/"
        },
        "id": "sVP-gs0c6g7k",
        "outputId": "0820c193-5890-42a3-ce81-cce06f249e29"
      },
      "source": [
        "# Total = 200 * 幾打 + 20 * 罐\n",
        "## Input Data\n",
        "cans = int(input('請輸入購買飲料的罐數?')) #數字轉文字\n",
        "## Process\n",
        "total = (cans//12)*200 + (cans%12)*20\n",
        "## Output\n",
        "print('需花費', total)"
      ],
      "execution_count": 31,
      "outputs": [
        {
          "output_type": "stream",
          "text": [
            "請輸入購買飲料的罐數?124\n",
            "需花費 2080\n"
          ],
          "name": "stdout"
        }
      ]
    },
    {
      "cell_type": "code",
      "metadata": {
        "colab": {
          "base_uri": "https://localhost:8080/"
        },
        "id": "DzBEnKHN6pbz",
        "outputId": "2974c9f9-42d2-450f-88f1-1e60f52a54f3"
      },
      "source": [
        "# 計算三次成績的總和與平均\n",
        "## Input Data\n",
        "first = int(input('請輸入第一次期中考成績?'))\n",
        "\n",
        "second = int(input('請輸入第二次期中考成績?'))\n",
        "final = int(input('請輸入期末考成績?'))\n",
        "## Process\n",
        "sum = first + second + final\n",
        "average = sum/3\n",
        "## Output\n",
        "print('總分為', sum, '平均為', average)"
      ],
      "execution_count": 32,
      "outputs": [
        {
          "output_type": "stream",
          "text": [
            "請輸入第一次期中考成績?66\n",
            "請輸入第二次期中考成績?88\n",
            "請輸入期末考成績?90\n",
            "總分為 244 平均為 81.33333333333333\n"
          ],
          "name": "stdout"
        }
      ]
    },
    {
      "cell_type": "markdown",
      "metadata": {
        "id": "DBdM_1xPdZib"
      },
      "source": [
        "##隨堂練習5: 請計算NBA 史上最偉大的中鋒之一,「柴油引擎」俠客歐尼爾\n",
        "(Shaquille O’Neal)巔峰時期的BMI。當時他的身高(216cm)與體重(147kg),而\n",
        "其所對應的身體質量指數公式為BMI = 公斤 / 公尺平方。"
      ]
    },
    {
      "cell_type": "code",
      "metadata": {
        "colab": {
          "base_uri": "https://localhost:8080/"
        },
        "id": "e3fAn3YhdbQb",
        "outputId": "5b16473d-24b3-462a-d783-78f5a69ecb19"
      },
      "source": [
        "player_name = input(\"請輸入球員姓名\")\n",
        "player_height = input(\"請輸入球員身高(cm):\")\n",
        "player_weight = input(\"請輸入球員體重(kg):\")\n",
        "\n",
        "player_height = float(player_height)\n",
        "player_weight = float(player_weight)\n",
        "player_bmi = player_weight/(player_height*0.01)**2\n",
        "\n",
        "print(\"{}的身體質量指數為:{:.2f}\".format(player_name,\n",
        "player_bmi))\n",
        "print(player_name,'的身體質量指數為', player_bmi )"
      ],
      "execution_count": null,
      "outputs": [
        {
          "output_type": "stream",
          "text": [
            "請輸入球員姓名:Shaquille O’Neal\n",
            "請輸入球員身高(cm):216\n",
            "請輸入球員體重(kg):147\n",
            "Shaquille O’Neal的身體質量指數為:31.51\n",
            "Shaquille O’Neal 的身體質量指數為 31.507201646090532\n"
          ],
          "name": "stdout"
        }
      ]
    },
    {
      "cell_type": "markdown",
      "metadata": {
        "id": "bt_NUVlSx7Zm"
      },
      "source": [
        "#練習1\n",
        "1. 從IMBD電影資料庫找出要記錄的魔球電影相關資訊\n",
        "網址：https://www.imdb.com/title/tt1210166/\n",
        "相關資訊：電影名稱、放映日期...... \n",
        "2. 在Python用變數儲存資訊\n",
        "\n",
        "\n"
      ]
    },
    {
      "cell_type": "code",
      "metadata": {
        "colab": {
          "base_uri": "https://localhost:8080/"
        },
        "id": "Anj9yXG6yXj8",
        "outputId": "a7e08816-3ee9-4018-ad48-2316f7f00238"
      },
      "source": [
        "...: movie_title = \"money ball\" # 電影名稱\n",
        "   ...: release_year = \"2011\"  # 放映日期\n",
        "   ...: movie_time_min = 133 # 片長\n",
        "   ...: movie_rating = 7.6 #評分\n",
        "   ...: \n",
        "   ...: director = \"Bennett Miller\" # 導演\n",
        "   ...: stars_1 = \"Brad Pitt\" #主要演員\n",
        "   ...: stars_2 = \"Roah Hill\" \n",
        "   ...: \n",
        "   ...: like = 1 # bin Wright\"\n",
        "   ...: stars_3 = \"Jon你喜不喜歡\"\n",
        "   ...: \n",
        "   ...: ## 3. 印出魔球電影的相關資訊\n",
        "   ...: print(movie_title)  # 螢幕列印\n",
        "   ...: print(release_year)\n",
        "   ...: print(movie_time_min)"
      ],
      "execution_count": 2,
      "outputs": [
        {
          "output_type": "stream",
          "text": [
            "money ball\n",
            "2011\n",
            "133\n"
          ],
          "name": "stdout"
        }
      ]
    },
    {
      "cell_type": "markdown",
      "metadata": {
        "id": "ERzIgybre_o5"
      },
      "source": [
        "##練習2: 猜猜我多大\n",
        "請拷貝下面的程式並執行之,猜猜看Python是那一年誕生的!\n",
        "又,雖然你還沒有學過這些Python指令,但請試看看把下面的程式改成「猜猜我多\n",
        "大」的遊戲!"
      ]
    },
    {
      "cell_type": "code",
      "metadata": {
        "colab": {
          "base_uri": "https://localhost:8080/"
        },
        "id": "QbhqM_RRfBmA",
        "outputId": "13997280-162a-4cc5-f1eb-8b67245e6a0c"
      },
      "source": [
        "guess = input(\"猜猜我多大: \")\n",
        "age = int(guess)\n",
        "age = 2002\n",
        "print(\"*_*,你對我瞭解的真多!\")\n",
        "print(\"可是,猜對了也沒有獎勵:D\")"
      ],
      "execution_count": null,
      "outputs": [
        {
          "output_type": "stream",
          "text": [
            "猜猜我多大: 18\n",
            "*_*,你對我瞭解的真多!\n",
            "可是,猜對了也沒有獎勵:D\n"
          ],
          "name": "stdout"
        }
      ]
    }
  ]
}