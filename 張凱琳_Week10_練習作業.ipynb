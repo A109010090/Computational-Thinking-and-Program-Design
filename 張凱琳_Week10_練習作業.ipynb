{
  "nbformat": 4,
  "nbformat_minor": 0,
  "metadata": {
    "colab": {
      "name": "張凱琳-Week10-練習作業.ipynb",
      "provenance": [],
      "authorship_tag": "ABX9TyPXOAPuyNKsWZipbAha0bwE",
      "include_colab_link": true
    },
    "kernelspec": {
      "name": "python3",
      "display_name": "Python 3"
    },
    "language_info": {
      "name": "python"
    }
  },
  "cells": [
    {
      "cell_type": "markdown",
      "metadata": {
        "id": "view-in-github",
        "colab_type": "text"
      },
      "source": [
        "<a href=\"https://colab.research.google.com/github/A109010090/Computational-Thinking-and-Program-Design/blob/main/%E5%BC%B5%E5%87%B1%E7%90%B3_Week10_%E7%B7%B4%E7%BF%92%E4%BD%9C%E6%A5%AD.ipynb\" target=\"_parent\"><img src=\"https://colab.research.google.com/assets/colab-badge.svg\" alt=\"Open In Colab\"/></a>"
      ]
    },
    {
      "cell_type": "markdown",
      "metadata": {
        "id": "Bs-iSeySNJtR"
      },
      "source": [
        "#**隨堂作業**\n",
        "#4-2-4  問題拆解 - 打造你的聊天機器人"
      ]
    },
    {
      "cell_type": "markdown",
      "metadata": {
        "id": "XGlmvrU8NOu4"
      },
      "source": [
        "#加入自我介紹的程式碼\n",
        "\n",
        "腳本 ~程式設計\n",
        "\n",
        "「哈囉,大家好。我叫Zyxo64,是一個聊天機器人。\n",
        "我很喜歡美食,也喜歡養動物。\n",
        "很高興有機會來到世新大學,請大家多多指教。\n",
        "\n",
        "嗨!妳好,請問大名?:**Francis**。\n",
        "\n",
        "我叫**Francis**\n",
        "\n",
        "你好 *Francis*,很高興認識你。"
      ]
    },
    {
      "cell_type": "code",
      "metadata": {
        "colab": {
          "base_uri": "https://localhost:8080/"
        },
        "id": "zUTW6GxIrAHr",
        "outputId": "885343c6-b0b6-419e-fd75-eb32e5cd63c1"
      },
      "source": [
        "# 1.聊天機器人自我介紹\n",
        "print(\"哈囉，大家好。我叫Zyxo64，是一個聊天機器人。\")\n",
        "hobby = \"在嗜好與興趣方面，我很喜歡美食，也喜歡養動物。今天很高興有機會來到世新大學，請大家多多指教。\"\n",
        "print( hobby )\n",
        "\n",
        "# 2. 打招呼，取得對方名字\n",
        "name = input(\"嗨！妳好，請問大名？: \")\n",
        "print(name, \"很高興認識你\")"
      ],
      "execution_count": 11,
      "outputs": [
        {
          "output_type": "stream",
          "text": [
            "哈囉，大家好。我叫Zyxo64，是一個聊天機器人。\n",
            "在嗜好與興趣方面，我很喜歡美食，也喜歡養動物。今天很高興有機會來到世新大學，請大家多多指教。\n",
            "嗨！妳好，請問大名？: Francis\n",
            "Francis 很高興認識你\n"
          ],
          "name": "stdout"
        }
      ]
    },
    {
      "cell_type": "markdown",
      "metadata": {
        "id": "f7uhs-YjraGF"
      },
      "source": [
        "#展現你的數學設計能力\n",
        "\n",
        "腳本 ~程式設計\n",
        "\n",
        "請問一下今年是西元2021年,那是民國幾年呢?:*110*。\n",
        "\n",
        "對!沒錯,謝謝妳!\n",
        "\n",
        "**Francis**,猜猜看我今年幾歲? :**18**。\n",
        "\n",
        "哇!你好聰明,我今年的確*18*。\n",
        "\n",
        "再82年我就100歲了。\n",
        "\n",
        "那時候是西元 2103年,也就是民國192年囉!"
      ]
    },
    {
      "cell_type": "code",
      "metadata": {
        "colab": {
          "base_uri": "https://localhost:8080/"
        },
        "id": "eKSgRB0PrgZ0",
        "outputId": "86a0115e-2c0e-4e12-b053-0261c868a282"
      },
      "source": [
        "# 3. 數學運算\n",
        "## 3-1 從使用者取得今年年份\n",
        "year = input(\"抱歉，請問一下今年是西元2021年，那是民國幾年呢？ \")\n",
        "print(\"對！沒錯，謝謝妳！\")\n",
        "\n",
        "## 3-2 請使用者猜年齡\n",
        "myage = int(input(\"Francis，猜猜看我今年幾歲？ \"))\n",
        "print(\"哇！你好聰明，我今年的確\", myage)\n",
        "\n",
        "## 3-3 計算聊天機器人滿100歲的年份\n",
        "nyears = 100 - myage\n",
        "print(\"再\", nyears, \"年我就100歲了。\")\n",
        "\n",
        "print(\"那時候是西元\", int(year) + nyears + 1911, \"年\") \n",
        "print(\"也就是民國\", int(year) + nyears, \"年囉！\") "
      ],
      "execution_count": 12,
      "outputs": [
        {
          "output_type": "stream",
          "text": [
            "抱歉，請問一下今年是西元2021年，那是民國幾年呢？ 110\n",
            "對！沒錯，謝謝妳！\n",
            "Francis，猜猜看我今年幾歲？ 18\n",
            "哇！你好聰明，我今年的確 18\n",
            "再 82 年我就100歲了。\n",
            "那時候是西元 2103 年\n",
            "也就是民國 192 年囉！\n"
          ],
          "name": "stdout"
        }
      ]
    },
    {
      "cell_type": "markdown",
      "metadata": {
        "id": "r6Y7ZIDXw4TX"
      },
      "source": [
        "#使用儲存的資料產生簡單的填入式回應範本\n",
        "\n",
        "腳本\n",
        "\n",
        "我喜歡吃巧克力,也喜歡嘗試各種新食物。\n",
        "\n",
        "你呢?你最喜歡的食物是什麼?**:披薩**。\n",
        "\n",
        "我也喜歡 *披薩*。\n",
        "\n",
        "你多久吃一次 *披薩*?**:每天**。\n",
        "\n",
        "真有趣。不知道這樣對健康好不好。"
      ]
    },
    {
      "cell_type": "code",
      "metadata": {
        "colab": {
          "base_uri": "https://localhost:8080/"
        },
        "id": "G3fmdrlHxBK-",
        "outputId": "443fa973-89f4-47f6-986a-750645062229"
      },
      "source": [
        "# 4 興趣\n",
        "## 4-1 食物話題\n",
        "print(\"我喜歡吃巧克力，也喜歡嘗試各種新食物。\")\n",
        "food = input(\"你呢。你最喜歡的食物是什麼？： \")\n",
        "print(\"我也喜歡\", food)\n",
        "question = \"你多久吃一次\" + food + \"?: \"\n",
        "howoften = input(question)\n",
        "print(\"真有趣。不知道這樣對健康好不好。\")"
      ],
      "execution_count": 13,
      "outputs": [
        {
          "output_type": "stream",
          "text": [
            "我喜歡吃巧克力，也喜歡嘗試各種新食物。\n",
            "你呢。你最喜歡的食物是什麼？： 披薩\n",
            "我也喜歡 披薩\n",
            "你多久吃一次披薩?: 每天\n",
            "真有趣。不知道這樣對健康好不好。\n"
          ],
          "name": "stdout"
        }
      ]
    },
    {
      "cell_type": "markdown",
      "metadata": {
        "id": "ZBUcX394xJ9v"
      },
      "source": [
        "我最喜歡的動物是長頸鹿。你呢? \n",
        "**:烏龜**。\n",
        "\n",
        "我不喜歡*烏龜*!\n",
        "\n",
        "不知道 *烏龜* 喜不喜歡吃 *披薩*?"
      ]
    },
    {
      "cell_type": "code",
      "metadata": {
        "colab": {
          "base_uri": "https://localhost:8080/"
        },
        "id": "NfEnoltRxMPv",
        "outputId": "222e573d-ad77-4d9f-c656-1f0daa75d4f5"
      },
      "source": [
        "# 4 興趣\n",
        "## 4-2 動物話題\n",
        "animal = input(\"我最喜歡的動物是長頸鹿。你呢？； \")\n",
        "print(\"我不喜歡\", animal)\n",
        "print(\"不知道\", animal, \"喜不喜歡吃\", food, \"?\")"
      ],
      "execution_count": 14,
      "outputs": [
        {
          "output_type": "stream",
          "text": [
            "我最喜歡的動物是長頸鹿。你呢？； 烏龜\n",
            "我不喜歡 烏龜\n",
            "不知道 烏龜 喜不喜歡吃 披薩 ?\n"
          ],
          "name": "stdout"
        }
      ]
    },
    {
      "cell_type": "markdown",
      "metadata": {
        "id": "pk8_1LlTxaHX"
      },
      "source": [
        "#加入關於心情的對話\n",
        "\n",
        "你今天心情如何? **:開心**。\n",
        "\n",
        "可以告訴我,你 *開心* 的原因嗎?\n",
        "\n",
        "為什麼:**因為週末了**!\n",
        "\n",
        "我知道了。謝謝分享。"
      ]
    },
    {
      "cell_type": "code",
      "metadata": {
        "colab": {
          "base_uri": "https://localhost:8080/"
        },
        "id": "RYCqLpeBxeo2",
        "outputId": "c4332927-e1ab-45f1-fb3d-f5dbb04f8af7"
      },
      "source": [
        "# 5. 關於心情的對話\n",
        "feeling = input(\"你今天心情如何？； \")\n",
        "print(\"可以告訴我，你\", feeling, \"的原因。 \")\n",
        "reason = input(\"為什麼： \")\n",
        "print(\"我知道了。謝謝分享。\")"
      ],
      "execution_count": 15,
      "outputs": [
        {
          "output_type": "stream",
          "text": [
            "你今天心情如何？； 開心\n",
            "可以告訴我，你 開心 的原因。 \n",
            "為什麼： 因為週末了!\n",
            "我知道了。謝謝分享。\n"
          ],
          "name": "stdout"
        }
      ]
    },
    {
      "cell_type": "markdown",
      "metadata": {
        "id": "wktI9Jwaxm1g"
      },
      "source": [
        "#專屬的道別做結束。\n",
        "\n",
        "祝你週末愉快!\n",
        "\n",
        "我喜歡跟你聊天,現在有點累了,改天再聊吧!!\n",
        "\n",
        "再見 *Francis*!!!"
      ]
    },
    {
      "cell_type": "code",
      "metadata": {
        "colab": {
          "base_uri": "https://localhost:8080/"
        },
        "id": "sdXvifNLxoT2",
        "outputId": "5474e706-99f1-48f6-ae2d-7ca3bd73b4dd"
      },
      "source": [
        "##6. 道別\n",
        "print(\"祝你週末愉快!\")\n",
        "print(\"我喜歡跟你聊天,現在有點累了,下次再聊!!\")\n",
        "print(\"再見\", name, \"我喜歡跟你聊天!\")"
      ],
      "execution_count": null,
      "outputs": [
        {
          "output_type": "stream",
          "text": [
            "祝你週末愉快!\n",
            "我喜歡跟你聊天,現在有點累了,下次再聊!!\n",
            "再見 Francis 我喜歡跟你聊天!\n"
          ],
          "name": "stdout"
        }
      ]
    },
    {
      "cell_type": "markdown",
      "metadata": {
        "id": "unQJpNZdOfvu"
      },
      "source": [
        "#**期末報告**"
      ]
    },
    {
      "cell_type": "markdown",
      "metadata": {
        "id": "06xSTQu6Om1-"
      },
      "source": [
        "#組長(學號姓名):A109010045 張芳瑜\n",
        "#組員(學號姓名):A109010090 張凱琳、A109010126 康婕柔"
      ]
    },
    {
      "cell_type": "markdown",
      "metadata": {
        "id": "a7Tlt7jmOwHP"
      },
      "source": [
        "#百字腳本~方案1\n",
        "#題目: **聊天機器人帶你做心理評估**"
      ]
    },
    {
      "cell_type": "code",
      "metadata": {
        "colab": {
          "base_uri": "https://localhost:8080/"
        },
        "id": "O8LmibXjT88O",
        "outputId": "26fb5472-bc4e-4c27-cb08-f741b0750b93"
      },
      "source": [
        "# 1.聊天機器人自我介紹 & 打招呼，取得對方名字\n",
        "name = input(\"嗨！妳好，請問大名？: \")\n",
        "print(name, \"很高興認識你\")\n",
        "print(\"我叫Robot，是一個聊天機器人。\")\n",
        "\n",
        "# 2. 簡單的開頭對話，說明主題及答題方式\n",
        "Introdution = \"你常常會覺得心累做事提不起勁嗎?\"\n",
        "print( Introdution )\n",
        "reason = input(\"為什麼： \")\n",
        "print(\"沒關係。可以一起來做下面的心理評估喔!\")\n",
        "print(\"你的厭世指數，用10個問題馬上測! 以下問題若答案為No請回答0，為Yes請回答1\")\n",
        "\n",
        "# 3. 測驗開始作答\n",
        "Q1=int(input(\"最近嘆氣的次數愈來愈多\"))\n",
        "Q2=int(input(\"對人際交往感到厭煩，聽到手機響起就覺得煩躁無力?\"))\n",
        "Q3=int(input(\"不太在乎自己的穿著，對時裝也失去興趣?\"))\n",
        "Q4=int(input(\"認為運動好麻煩，會盡可能在家宅\"))\n",
        "Q5=int(input(\"吃什麼都淡而無味，對美食失去興趣\"))\n",
        "Q6=int(input(\"最近的活動範圍只有家裡、公司或學校\"))\n",
        "Q7=int(input(\"明明有件事需要處理，卻遲遲未開始\"))\n",
        "Q8=int(input(\"失去上進心，覺得「現在這樣也不錯」\"))\n",
        "Q9=int(input(\"認為談戀愛是麻煩事\"))\n",
        "Q10=int(input(\"放假時大多數時間都在睡覺\"))\n",
        "\n",
        "# 4. 分數計算\n",
        "Total=(Q1+Q2+Q3+Q4+Q5+Q6+Q7+Q8+Q9+Q10)\n",
        "print(\"總分是\",Total)\n",
        "\n",
        "# 5. 測驗結果\n",
        "if Total <= 2:\n",
        "    print(\"0~2 個勾勾：繼續維持下去吧!恭喜你，你的心累指數只有10%！只要有想做的事情，你就會馬上去做，有想去的地方你也會馬上出發，每天都過得不無聊、滿充實的喔！內心變得充實的話，行動力也會隨之提高，相信你之後也會一步步的實現自己想做的事呢！繼續保持現在的良好狀態，試著接受不同的挑戰，吸收各式各樣的新事物吧！不過在努力的同時，也要記得好好休息喔！\")\n",
        "\n",
        "elif Total <= 5 and Total >= 3:\n",
        "    print(\"3~5 個勾勾：要注意安撫情緒喔！你的心累指數是 40%，仍然是非常有活力的人。不過要小心一旦發生什麼事情，情緒可能容易變得消沉。你不是消極的人，反而是個努力家，但有時候過於努力，反而會造成疲倦與壓力。在到達極限之前，不如先抽個空讓自己好好休息。不然太過沉重的壓力有可能會壓垮你喔。\")\n",
        "\n",
        "elif Total <= 8 and Total >= 6:\n",
        "    print(\"6~8 個勾勾：你已經有點危險了！你的心累指數是 60%，已經有點累了呢！但再這樣下去，壓力是不會消失的！你也是依然有想挑戰的新事物，但只有空想卻無法下定決心，只會讓時間一分一秒逝去。你可能心有餘而力不足，覺得有點不甘心；那就先試著從小小的挑戰開始做起吧！\")\n",
        "\n",
        "if Total >= 9:\n",
        "    print(\"9~10 個勾勾：「快樂」是你的頭號課題！你的厭世指數有 80%，非常的高喔！你的內心狀態非常疲倦，每天的生活也讓你感到乏味至極。如果什麼事都覺得無聊又無趣的話，是因為你的內心狀態已經很疲倦，也很久沒有展開笑容了吧？對你來說，現在最重要的就是找回你自己的時間，試著一步步找到喜歡並且感興趣的事，努力讓自己重新充滿活力，再度快樂起來吧！\")\n",
        "\n",
        "# 6. 簡單道別\n",
        "input(\"測驗做玩啦!你覺得有準嗎?\")\n",
        "print(\"嗯嗯!那改天再聊吧!希望下次見到你，你更健康快樂了喔!\")\n",
        "print(\"再見\",name)"
      ],
      "execution_count": 10,
      "outputs": [
        {
          "output_type": "stream",
          "text": [
            "嗨！妳好，請問大名？: chang\n",
            "chang 很高興認識你\n",
            "我叫Robot，是一個聊天機器人。\n",
            "你常常會覺得心累做事提不起勁嗎?\n",
            "為什麼： 活著\n",
            "沒關係。可以一起來做下面的心理評估喔!\n",
            "你的厭世指數，用10個問題馬上測! 以下問題若答案為No請回答0，為Yes請回答1\n",
            "最近嘆氣的次數愈來愈多0\n",
            "對人際交往感到厭煩，聽到手機響起就覺得煩躁無力?0\n",
            "不太在乎自己的穿著，對時裝也失去興趣?0\n",
            "認為運動好麻煩，會盡可能在家宅1\n",
            "吃什麼都淡而無味，對美食失去興趣0\n",
            "最近的活動範圍只有家裡、公司或學校1\n",
            "明明有件事需要處理，卻遲遲未開始1\n",
            "失去上進心，覺得「現在這樣也不錯」1\n",
            "認為談戀愛是麻煩事1\n",
            "放假時大多數時間都在睡覺1\n",
            "總分是 6\n",
            "6~8 個勾勾：你已經有點危險了！你的心累指數是 60%，已經有點累了呢！但再這樣下去，壓力是不會消失的！你也是依然有想挑戰的新事物，但只有空想卻無法下定決心，只會讓時間一分一秒逝去。你可能心有餘而力不足，覺得有點不甘心；那就先試著從小小的挑戰開始做起吧！\n",
            "測驗做玩啦!你覺得有準嗎?準啦 哪次不準\n",
            "嗯嗯!那改天再聊吧!希望下次見到你，你更健康快樂了喔!\n",
            "再見 chang\n"
          ],
          "name": "stdout"
        }
      ]
    },
    {
      "cell_type": "markdown",
      "metadata": {
        "id": "z0LUPXN3OzBV"
      },
      "source": [
        "#百字腳本~方案2\n",
        "#題目: **我有一個笑話你想不想聽**"
      ]
    },
    {
      "cell_type": "code",
      "metadata": {
        "colab": {
          "base_uri": "https://localhost:8080/"
        },
        "id": "7xXFYuM_mc11",
        "outputId": "55412a53-52d6-4df5-b269-7db6e7177bea"
      },
      "source": [
        "# 1. 說明故事發生的時間\n",
        "print(\"鈴鈴鈴~鈴鈴鈴~(電話聲)\")\n",
        "print(\"狀態:凌晨三點被電話聲吵醒的你接起了電話。 \")\n",
        "\n",
        "# 2. 透過電話開啟與主角(你)的對話 <預設機器人為久未見面的朋友>\n",
        "input(\"📞:嗨!我是你麻吉啦。想問你現在心情如何？ \")\n",
        "input(\"我現在很開心。快問我「為什麼」!求你啦Q_Q \")\n",
        "input(\"因為我剛剛聽到一個超好笑的笑話!你想聽嗎? \")\n",
        "print(\"不管你想不想聽，我還是想講~哈哈哈哈哈! \")\n",
        "\n",
        "# 3. 導引笑話即將開始的對話\n",
        "input(\"📞:啊對了，你要先笑三聲我才開始講。因為我怕你睡著了:D \")\n",
        "print(\"那廢話不多說，我要開始講笑話了^u^ \")\n",
        "\n",
        "# 4. 機器人講述笑話 & 與主角(你)對話互動\n",
        "print(\"📞:某次生物考試中，有一題題目是「看鳥腳的圖片，寫出鳥的名字」 \" )\n",
        "print(\"小明一看到題目就很傻眼\" )\n",
        "print(\"小明:「傻眼」\" )\n",
        "print(\"所以他邊不爽邊把考卷撕掉走出考場 \")\n",
        "print(\"監考老師看見急忙叫住他，並說:「同學你回來!你叫什麼名字!」 \")\n",
        "print(\"小明彎下腰、捲起褲管，並拍拍自己的大腿... \")\n",
        "input(\"你猜小明說了什麼? \")\n",
        "print(\"小明:「你猜啊!你猜猜看啊!」 \")\n",
        "\n",
        "# 5. 結局對應開場營造之氣氛 <有個性的機器人?>\n",
        "print(\"📞:是不是很好笑!好，我笑話講完了。晚安唷麻吉^3^ \")\n",
        "print(\"嘟...嘟...嘟...(被掛電話) \")\n",
        "print(\"♫ 最怕空氣突然安靜 ♫ \")"
      ],
      "execution_count": null,
      "outputs": [
        {
          "output_type": "stream",
          "text": [
            "鈴鈴鈴~鈴鈴鈴~(電話聲)\n",
            "狀態:凌晨三點被電話聲吵醒的你接起了電話。 \n",
            "📞:嗨!我是你麻吉啦。想問你現在心情如何？ 不爽\n",
            "我現在很開心。快問我「為什麼」!求你啦Q_Q 不要\n",
            "因為我剛剛聽到一個超好笑的笑話!你想聽嗎? 不用\n",
            "不管你想不想聽，我還是想講~哈哈哈哈哈! \n",
            "📞:啊對了，你要先笑三聲我才開始講。因為我怕你睡著了:D 哈...\n",
            "那廢話不多說，我要開始講笑話了^u^ \n",
            "📞:某次生物考試中，有一題題目是「看鳥腳的圖片，寫出鳥的名字」 \n",
            "小明一看到題目就很傻眼\n",
            "小明:「傻眼」\n",
            "所以他邊不爽邊把考卷撕掉走出考場 \n",
            "監考老師看見急忙叫住他，並說:「同學你回來!你叫什麼名字!」 \n",
            "小明彎下腰、捲起褲管，並拍拍自己的大腿... \n",
            "你猜小明說了什麼? 不知道\n",
            "小明:「你猜啊!你猜猜看啊!」 \n",
            "📞:是不是很好笑!好，我笑話講完了。晚安唷麻吉^3^ \n",
            "嘟...嘟...嘟...(被掛電話) \n",
            "♫ 最怕空氣突然安靜 ♫ \n"
          ],
          "name": "stdout"
        }
      ]
    }
  ]
}