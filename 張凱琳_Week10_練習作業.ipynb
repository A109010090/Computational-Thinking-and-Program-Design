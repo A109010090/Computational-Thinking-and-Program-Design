{
  "nbformat": 4,
  "nbformat_minor": 0,
  "metadata": {
    "colab": {
      "name": "張凱琳-Week10-練習作業.ipynb",
      "provenance": [],
      "authorship_tag": "ABX9TyMt9uuTwSiQFcXedjuyrWaq",
      "include_colab_link": true
    },
    "kernelspec": {
      "name": "python3",
      "display_name": "Python 3"
    },
    "language_info": {
      "name": "python"
    }
  },
  "cells": [
    {
      "cell_type": "markdown",
      "metadata": {
        "id": "view-in-github",
        "colab_type": "text"
      },
      "source": [
        "<a href=\"https://colab.research.google.com/github/A109010090/Computational-Thinking-and-Program-Design/blob/main/%E5%BC%B5%E5%87%B1%E7%90%B3_Week10_%E7%B7%B4%E7%BF%92%E4%BD%9C%E6%A5%AD.ipynb\" target=\"_parent\"><img src=\"https://colab.research.google.com/assets/colab-badge.svg\" alt=\"Open In Colab\"/></a>"
      ]
    },
    {
      "cell_type": "markdown",
      "metadata": {
        "id": "l-kO3on7qxTm"
      },
      "source": [
        "#加入自我介紹的程式碼\n",
        "腳本 ~程式設計\n",
        "\n",
        "「哈囉,大家好。我叫Zyxo64,是一個聊天機器人。\n",
        "我很喜歡美食,也喜歡養動物。\n",
        "很高興有機會來到世新大學,請大家多多指教。\n",
        "\n",
        "嗨!妳好,請問大名?:**Francis**。\n",
        "\n",
        "我叫**Francis**\n",
        "\n",
        "*Francis*,很高興認識你。"
      ]
    },
    {
      "cell_type": "code",
      "metadata": {
        "colab": {
          "base_uri": "https://localhost:8080/"
        },
        "id": "zUTW6GxIrAHr",
        "outputId": "e907fe02-6aa3-4b3c-b716-8e8884a35e50"
      },
      "source": [
        "## 1.聊天機器人自我介紹\n",
        "...: print(\"哈囉,大家好。我叫Zyxo64,是一個聊天機器人。\")\n",
        "...: hobby = \"我很喜歡美食東西，也喜歡養動物。今天很高興有機會來到世新大學，請大家多多指教。\"\n",
        "...: print( hobby )"
      ],
      "execution_count": 2,
      "outputs": [
        {
          "output_type": "stream",
          "text": [
            "哈囉,大家好。我叫Zyxo64,是一個聊天機器人。\n",
            "我很喜歡美食東西，也喜歡養動物。今天很高興有機會來到世新大學，請大家多多指教。\n"
          ],
          "name": "stdout"
        }
      ]
    },
    {
      "cell_type": "markdown",
      "metadata": {
        "id": "f7uhs-YjraGF"
      },
      "source": [
        "#展現你的數學設計能力\n",
        "\n",
        "腳本 ~程式設計\n",
        "\n",
        "請問一下今年是西元2021年,那是民國幾年呢?:*110*。\n",
        "\n",
        "對!沒錯,謝謝妳!\n",
        "\n",
        "**Francis**,猜猜看我今年幾歲? :**18**。\n",
        "\n",
        "哇!你好聰明,我今年的確*18*。\n",
        "\n",
        "再82年我就100歲了。\n",
        "\n",
        "那時候是西元 2103年,也就是民國192年囉!"
      ]
    },
    {
      "cell_type": "code",
      "metadata": {
        "colab": {
          "base_uri": "https://localhost:8080/"
        },
        "id": "eKSgRB0PrgZ0",
        "outputId": "1488df47-07a3-48b8-e4a2-c5dcd6281037"
      },
      "source": [
        "## 2. 打招呼,取得對方名字\n",
        "...: name = input(\"嗨!妳好,請問大名?: \")\n",
        "...: print(\"你好\", name, \"很高興認識你\")\n",
        "\n",
        "## 3. 數學運算\n",
        "...: ## 3-1 從使用者取得今年年份\n",
        "...: year = input(\"請問一下今年是西元2021年,那是民國幾年呢? \")\n",
        "...: print(\"對!應該沒錯,謝謝妳!\")\n",
        "\n",
        "## 3-2 請使用者猜年齡\n",
        "...: myage = int(input(\"Francis,猜猜看我今年幾歲? \"))\n",
        "...: print(\"哇!你好聰明,我今年的確\", myage)\n",
        "\n",
        "## 3-3 計算聊天機器人滿100歲的年份\n",
        "...: nyears = 100 - myage\n",
        "...: print(\"我再\", nyears, \"年就滿100歲了。\")\n",
        "...:\n",
        "...: print(\"到時候是西元\", int(year) + nyears + 1911, \"年\") # 將今年年份轉換為整數\n",
        "...: print(\"也就是民國\", int(year) + nyears, \"年\") # 民國幾年"
      ],
      "execution_count": 4,
      "outputs": [
        {
          "output_type": "stream",
          "text": [
            "嗨!妳好,請問大名?: Francis\n",
            "你好 Francis 很高興認識你\n",
            "請問一下今年是西元2021年,那是民國幾年呢? 110\n",
            "對!應該沒錯,謝謝妳!\n",
            "Francis,猜猜看我今年幾歲? 18\n",
            "哇!你好聰明,我今年的確 18\n",
            "我再 82 年就滿100歲了。\n",
            "到時候是西元 2103 年\n",
            "也就是民國 192 年\n"
          ],
          "name": "stdout"
        }
      ]
    },
    {
      "cell_type": "markdown",
      "metadata": {
        "id": "r6Y7ZIDXw4TX"
      },
      "source": [
        "#使用儲存的資料產生簡單的填入式回應範本\n",
        "\n",
        "腳本\n",
        "\n",
        "我喜歡吃巧克力,也喜歡嘗試各種新食物。\n",
        "\n",
        "你呢?你最喜歡的食物是什麼?**:披薩**。\n",
        "\n",
        "我也喜歡 *披薩*。\n",
        "\n",
        "你多久吃一次 *披薩*?**:每天**。\n",
        "\n",
        "真有趣。不知道這樣對健康好不好。"
      ]
    },
    {
      "cell_type": "code",
      "metadata": {
        "colab": {
          "base_uri": "https://localhost:8080/"
        },
        "id": "G3fmdrlHxBK-",
        "outputId": "fbf57f8b-8c64-43e2-a86b-dee06cf0af3c"
      },
      "source": [
        "## 4 興趣\n",
        "...: ## 4-1 食物話題\n",
        "...: print(\"我喜歡巧克力,也喜歡嘗試各種新食物。\")\n",
        "...: food = input(\"你呢。你最喜歡的食物是什麼?: \")\n",
        "...: print(\"我也喜歡\", food)\n",
        "...: question = \"你多久吃一次\" + food + \"?: \"\n",
        "...: howoften = input(question)\n",
        "...: print(\"真有趣。不知道這樣對健康好不好!\")"
      ],
      "execution_count": 5,
      "outputs": [
        {
          "output_type": "stream",
          "text": [
            "我喜歡巧克力,也喜歡嘗試各種新食物。\n",
            "你呢。你最喜歡的食物是什麼?: PIZZA\n",
            "我也喜歡 PIZZA\n",
            "你多久吃一次PIZZA?: Everyday\n",
            "真有趣。不知道這樣對健康好不好!\n"
          ],
          "name": "stdout"
        }
      ]
    },
    {
      "cell_type": "markdown",
      "metadata": {
        "id": "ZBUcX394xJ9v"
      },
      "source": [
        "我最喜歡的動物是長頸鹿。你呢? \n",
        "**:烏龜**。\n",
        "\n",
        "我不喜歡*烏龜*!\n",
        "\n",
        "不知道 *烏龜* 喜不喜歡吃 *披薩*?"
      ]
    },
    {
      "cell_type": "code",
      "metadata": {
        "colab": {
          "base_uri": "https://localhost:8080/"
        },
        "id": "NfEnoltRxMPv",
        "outputId": "efc5e9ef-7c98-46dc-f96a-a2ad4014ae86"
      },
      "source": [
        "## 4-2 動物話題\n",
        "...: animal = input(\"我最喜歡的動物是長頸鹿。你呢?; \")\n",
        "...: print(\"我不喜歡\", animal)\n",
        "...: print(\"不知道\", animal, \"喜不喜歡吃\", food, \"?\")"
      ],
      "execution_count": 6,
      "outputs": [
        {
          "output_type": "stream",
          "text": [
            "我最喜歡的動物是長頸鹿。你呢?; Turtle\n",
            "我不喜歡 Turtle\n",
            "不知道 Turtle 喜不喜歡吃 PIZZA ?\n"
          ],
          "name": "stdout"
        }
      ]
    },
    {
      "cell_type": "markdown",
      "metadata": {
        "id": "pk8_1LlTxaHX"
      },
      "source": [
        "#加入關於心情的對話\n",
        "\n",
        "你今天心情如何? **:開心**。\n",
        "\n",
        "可以告訴我,你 *開心* 的原因嗎?\n",
        "\n",
        "為什麼:**因為週末了**!\n",
        "\n",
        "我知道了。謝謝分享。"
      ]
    },
    {
      "cell_type": "code",
      "metadata": {
        "colab": {
          "base_uri": "https://localhost:8080/"
        },
        "id": "RYCqLpeBxeo2",
        "outputId": "2c234086-b50f-4abd-d222-152dea02c2d2"
      },
      "source": [
        "## 5. 關於心情的對話\n",
        "...: feeling = input(\"你今天心情如何?; \")\n",
        "...: print(\"可以告訴我,你\", feeling, \"的原因。 \")\n",
        "...: reason = input(\"為什麼: \")\n",
        "...: print(\"我知道了。謝謝分享。\")"
      ],
      "execution_count": 7,
      "outputs": [
        {
          "output_type": "stream",
          "text": [
            "你今天心情如何?; Happy\n",
            "可以告訴我,你 Happy 的原因。 \n",
            "為什麼: Weekend\n",
            "我知道了。謝謝分享。\n"
          ],
          "name": "stdout"
        }
      ]
    },
    {
      "cell_type": "markdown",
      "metadata": {
        "id": "wktI9Jwaxm1g"
      },
      "source": [
        "#專屬的道別做結束。\n",
        "\n",
        "祝你週末愉快!\n",
        "\n",
        "我喜歡跟你聊天,現在有點累了,改天再聊吧!!\n",
        "\n",
        "再見 *Francis*!!!"
      ]
    },
    {
      "cell_type": "code",
      "metadata": {
        "colab": {
          "base_uri": "https://localhost:8080/"
        },
        "id": "sdXvifNLxoT2",
        "outputId": "ba0338c0-b7dc-4f5e-d130-6eedecd1de01"
      },
      "source": [
        "## 6. 道別\n",
        "...: print(\"祝你週末愉快!\")\n",
        "...: print(\"我喜歡跟你聊天,現在有點累了,下次再聊!!\")\n",
        "...: print(\"再見\", name, \"我喜歡跟你聊天!\")"
      ],
      "execution_count": 8,
      "outputs": [
        {
          "output_type": "stream",
          "text": [
            "祝你週末愉快!\n",
            "我喜歡跟你聊天,現在有點累了,下次再聊!!\n",
            "再見 Francis 我喜歡跟你聊天!\n"
          ],
          "name": "stdout"
        }
      ]
    },
    {
      "cell_type": "code",
      "metadata": {
        "id": "kEAX1Xg7xt3m"
      },
      "source": [
        ""
      ],
      "execution_count": null,
      "outputs": []
    }
  ]
}