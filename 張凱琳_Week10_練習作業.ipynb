{
  "nbformat": 4,
  "nbformat_minor": 0,
  "metadata": {
    "colab": {
      "name": "張凱琳-Week10-練習作業.ipynb",
      "provenance": [],
      "authorship_tag": "ABX9TyMsDc7A7NmLGnyJBlFv9C87",
      "include_colab_link": true
    },
    "kernelspec": {
      "name": "python3",
      "display_name": "Python 3"
    },
    "language_info": {
      "name": "python"
    }
  },
  "cells": [
    {
      "cell_type": "markdown",
      "metadata": {
        "id": "view-in-github",
        "colab_type": "text"
      },
      "source": [
        "<a href=\"https://colab.research.google.com/github/A109010090/Computational-Thinking-and-Program-Design/blob/main/%E5%BC%B5%E5%87%B1%E7%90%B3_Week10_%E7%B7%B4%E7%BF%92%E4%BD%9C%E6%A5%AD.ipynb\" target=\"_parent\"><img src=\"https://colab.research.google.com/assets/colab-badge.svg\" alt=\"Open In Colab\"/></a>"
      ]
    },
    {
      "cell_type": "markdown",
      "metadata": {
        "id": "Bs-iSeySNJtR"
      },
      "source": [
        "#**隨堂作業**\n",
        "#4-2-4  問題拆解 - 打造你的聊天機器人"
      ]
    },
    {
      "cell_type": "markdown",
      "metadata": {
        "id": "XGlmvrU8NOu4"
      },
      "source": [
        "#加入自我介紹的程式碼\n",
        "\n",
        "腳本 ~程式設計\n",
        "\n",
        "「哈囉,大家好。我叫Zyxo64,是一個聊天機器人。\n",
        "我很喜歡美食,也喜歡養動物。\n",
        "很高興有機會來到世新大學,請大家多多指教。\n",
        "\n",
        "嗨!妳好,請問大名?:**Francis**。\n",
        "\n",
        "我叫**Francis**\n",
        "\n",
        "你好 *Francis*,很高興認識你。"
      ]
    },
    {
      "cell_type": "code",
      "metadata": {
        "colab": {
          "base_uri": "https://localhost:8080/"
        },
        "id": "zUTW6GxIrAHr",
        "outputId": "dc406b1d-682e-4976-ac4f-44cfe761069c"
      },
      "source": [
        "#1.聊天機器人自我介紹\n",
        "print(\"哈囉,大家好。我叫Zyxo64,是一個聊天機器人。\")\n",
        "hobby = \"我很喜歡美食東西，也喜歡養動物。今天很高興有機會來到世新大學，請大家多多指教。\"\n",
        "print( hobby )\n",
        "\n",
        "#2.打招呼,取得對方名字\n",
        "name = input(\"嗨!妳好,請問大名?: \")\n",
        "print(\"你好\", name, \"很高興認識你\")"
      ],
      "execution_count": 2,
      "outputs": [
        {
          "output_type": "stream",
          "text": [
            "哈囉,大家好。我叫Zyxo64,是一個聊天機器人。\n",
            "我很喜歡美食東西，也喜歡養動物。今天很高興有機會來到世新大學，請大家多多指教。\n",
            "嗨!妳好,請問大名?: Francis\n",
            "你好 Francis 很高興認識你\n"
          ],
          "name": "stdout"
        }
      ]
    },
    {
      "cell_type": "markdown",
      "metadata": {
        "id": "f7uhs-YjraGF"
      },
      "source": [
        "#展現你的數學設計能力\n",
        "\n",
        "腳本 ~程式設計\n",
        "\n",
        "請問一下今年是西元2021年,那是民國幾年呢?:*110*。\n",
        "\n",
        "對!沒錯,謝謝妳!\n",
        "\n",
        "**Francis**,猜猜看我今年幾歲? :**18**。\n",
        "\n",
        "哇!你好聰明,我今年的確*18*。\n",
        "\n",
        "再82年我就100歲了。\n",
        "\n",
        "那時候是西元 2103年,也就是民國192年囉!"
      ]
    },
    {
      "cell_type": "code",
      "metadata": {
        "colab": {
          "base_uri": "https://localhost:8080/"
        },
        "id": "eKSgRB0PrgZ0",
        "outputId": "0cece703-004e-4dd1-95af-ceb4fa5c2005"
      },
      "source": [
        "##3. 數學運算\n",
        "\n",
        "#3-1 從使用者取得今年年份\n",
        "year = input(\"請問一下今年是西元2021年,那是民國幾年呢? \")\n",
        "print(\"對!應該沒錯,謝謝妳!\")\n",
        "\n",
        "#3-2 請使用者猜年齡\n",
        "myage = int(input(\"Francis,猜猜看我今年幾歲? \"))\n",
        "print(\"哇!你好聰明,我今年的確\", myage)\n",
        "\n",
        "#3-3 計算聊天機器人滿100歲的年份\n",
        "nyears = 100 - myage\n",
        "print(\"我再\", nyears, \"年就滿100歲了。\")\n",
        "print(\"到時候是西元\", int(year) + nyears + 1911, \"年\") # 將今年年份轉換為整數\n",
        "print(\"也就是民國\", int(year) + nyears, \"年\") # 民國幾年"
      ],
      "execution_count": 3,
      "outputs": [
        {
          "output_type": "stream",
          "text": [
            "請問一下今年是西元2021年,那是民國幾年呢? 110\n",
            "對!應該沒錯,謝謝妳!\n",
            "Francis,猜猜看我今年幾歲? 18\n",
            "哇!你好聰明,我今年的確 18\n",
            "我再 82 年就滿100歲了。\n",
            "到時候是西元 2103 年\n",
            "也就是民國 192 年\n"
          ],
          "name": "stdout"
        }
      ]
    },
    {
      "cell_type": "markdown",
      "metadata": {
        "id": "r6Y7ZIDXw4TX"
      },
      "source": [
        "#使用儲存的資料產生簡單的填入式回應範本\n",
        "\n",
        "腳本\n",
        "\n",
        "我喜歡吃巧克力,也喜歡嘗試各種新食物。\n",
        "\n",
        "你呢?你最喜歡的食物是什麼?**:披薩**。\n",
        "\n",
        "我也喜歡 *披薩*。\n",
        "\n",
        "你多久吃一次 *披薩*?**:每天**。\n",
        "\n",
        "真有趣。不知道這樣對健康好不好。"
      ]
    },
    {
      "cell_type": "code",
      "metadata": {
        "colab": {
          "base_uri": "https://localhost:8080/"
        },
        "id": "G3fmdrlHxBK-",
        "outputId": "0eab4ffa-ce40-4846-cd67-17830249e0fc"
      },
      "source": [
        "##4 興趣\n",
        "#4-1 食物話題\n",
        "print(\"我喜歡巧克力,也喜歡嘗試各種新食物。\")\n",
        "food = input(\"你呢。你最喜歡的食物是什麼?: \")\n",
        "print(\"我也喜歡\", food)\n",
        "question = \"你多久吃一次\" + food + \"?: \"\n",
        "howoften = input(question)\n",
        "print(\"真有趣。不知道這樣對健康好不好!\")"
      ],
      "execution_count": 6,
      "outputs": [
        {
          "output_type": "stream",
          "text": [
            "我喜歡巧克力,也喜歡嘗試各種新食物。\n",
            "你呢。你最喜歡的食物是什麼?: 披薩\n",
            "我也喜歡 披薩\n",
            "你多久吃一次披薩?: 每天\n",
            "真有趣。不知道這樣對健康好不好!\n"
          ],
          "name": "stdout"
        }
      ]
    },
    {
      "cell_type": "markdown",
      "metadata": {
        "id": "ZBUcX394xJ9v"
      },
      "source": [
        "我最喜歡的動物是長頸鹿。你呢? \n",
        "**:烏龜**。\n",
        "\n",
        "我不喜歡*烏龜*!\n",
        "\n",
        "不知道 *烏龜* 喜不喜歡吃 *披薩*?"
      ]
    },
    {
      "cell_type": "code",
      "metadata": {
        "colab": {
          "base_uri": "https://localhost:8080/"
        },
        "id": "NfEnoltRxMPv",
        "outputId": "05becfd0-2b5b-4484-a609-a6b0b507b64a"
      },
      "source": [
        "## 4-2 動物話題\n",
        "...: animal = input(\"我最喜歡的動物是長頸鹿。你呢?; \")\n",
        "...: print(\"我不喜歡\", animal)\n",
        "...: print(\"不知道\", animal, \"喜不喜歡吃\", food, \"?\")"
      ],
      "execution_count": 7,
      "outputs": [
        {
          "output_type": "stream",
          "text": [
            "我最喜歡的動物是長頸鹿。你呢?; 烏龜\n",
            "我不喜歡 烏龜\n",
            "不知道 烏龜 喜不喜歡吃 披薩 ?\n"
          ],
          "name": "stdout"
        }
      ]
    },
    {
      "cell_type": "markdown",
      "metadata": {
        "id": "pk8_1LlTxaHX"
      },
      "source": [
        "#加入關於心情的對話\n",
        "\n",
        "你今天心情如何? **:開心**。\n",
        "\n",
        "可以告訴我,你 *開心* 的原因嗎?\n",
        "\n",
        "為什麼:**因為週末了**!\n",
        "\n",
        "我知道了。謝謝分享。"
      ]
    },
    {
      "cell_type": "code",
      "metadata": {
        "colab": {
          "base_uri": "https://localhost:8080/"
        },
        "id": "RYCqLpeBxeo2",
        "outputId": "95bbf1c0-a93a-47f3-efab-e43b9f8a9d7b"
      },
      "source": [
        "## 5. 關於心情的對話\n",
        "...: feeling = input(\"你今天心情如何?; \")\n",
        "...: print(\"可以告訴我,你\", feeling, \"的原因。 \")\n",
        "...: reason = input(\"為什麼: \")\n",
        "...: print(\"我知道了。謝謝分享。\")"
      ],
      "execution_count": 8,
      "outputs": [
        {
          "output_type": "stream",
          "text": [
            "你今天心情如何?; 開心\n",
            "可以告訴我,你 開心 的原因。 \n",
            "為什麼: 因為週末了!\n",
            "我知道了。謝謝分享。\n"
          ],
          "name": "stdout"
        }
      ]
    },
    {
      "cell_type": "markdown",
      "metadata": {
        "id": "wktI9Jwaxm1g"
      },
      "source": [
        "#專屬的道別做結束。\n",
        "\n",
        "祝你週末愉快!\n",
        "\n",
        "我喜歡跟你聊天,現在有點累了,改天再聊吧!!\n",
        "\n",
        "再見 *Francis*!!!"
      ]
    },
    {
      "cell_type": "code",
      "metadata": {
        "colab": {
          "base_uri": "https://localhost:8080/"
        },
        "id": "sdXvifNLxoT2",
        "outputId": "5474e706-99f1-48f6-ae2d-7ca3bd73b4dd"
      },
      "source": [
        "##6. 道別\n",
        "print(\"祝你週末愉快!\")\n",
        "print(\"我喜歡跟你聊天,現在有點累了,下次再聊!!\")\n",
        "print(\"再見\", name, \"我喜歡跟你聊天!\")"
      ],
      "execution_count": 9,
      "outputs": [
        {
          "output_type": "stream",
          "text": [
            "祝你週末愉快!\n",
            "我喜歡跟你聊天,現在有點累了,下次再聊!!\n",
            "再見 Francis 我喜歡跟你聊天!\n"
          ],
          "name": "stdout"
        }
      ]
    },
    {
      "cell_type": "markdown",
      "metadata": {
        "id": "unQJpNZdOfvu"
      },
      "source": [
        "#**期末報告**"
      ]
    },
    {
      "cell_type": "markdown",
      "metadata": {
        "id": "06xSTQu6Om1-"
      },
      "source": [
        "#組長(學號姓名):A109010045 張芳瑜\n",
        "#組員(學號姓名):A109010090 張凱琳、A109010126 康婕柔"
      ]
    },
    {
      "cell_type": "markdown",
      "metadata": {
        "id": "a7Tlt7jmOwHP"
      },
      "source": [
        "#題目: **我有一個笑話你想不想聽**"
      ]
    },
    {
      "cell_type": "markdown",
      "metadata": {
        "id": "z0LUPXN3OzBV"
      },
      "source": [
        "#百字腳本"
      ]
    },
    {
      "cell_type": "code",
      "metadata": {
        "colab": {
          "base_uri": "https://localhost:8080/"
        },
        "id": "7xXFYuM_mc11",
        "outputId": "55412a53-52d6-4df5-b269-7db6e7177bea"
      },
      "source": [
        "print(\"鈴鈴鈴~鈴鈴鈴~(電話聲)\")\n",
        "print(\"狀態:凌晨三點被電話聲吵醒的你接起了電話。 \")\n",
        "\n",
        "input(\"📞:嗨!我是你麻吉啦。想問你現在心情如何？ \")\n",
        "input(\"我現在很開心。快問我「為什麼」!求你啦Q_Q \")\n",
        "input(\"因為我剛剛聽到一個超好笑的笑話!你想聽嗎? \")\n",
        "print(\"不管你想不想聽，我還是想講~哈哈哈哈哈! \")\n",
        "\n",
        "input(\"📞:啊對了，你要先笑三聲我才開始講。因為我怕你睡著了:D \")\n",
        "print(\"那廢話不多說，我要開始講笑話了^u^ \")\n",
        "\n",
        "print(\"📞:某次生物考試中，有一題題目是「看鳥腳的圖片，寫出鳥的名字」 \" )\n",
        "print(\"小明一看到題目就很傻眼\" )\n",
        "print(\"小明:「傻眼」\" )\n",
        "print(\"所以他邊不爽邊把考卷撕掉走出考場 \")\n",
        "print(\"監考老師看見急忙叫住他，並說:「同學你回來!你叫什麼名字!」 \")\n",
        "print(\"小明彎下腰、捲起褲管，並拍拍自己的大腿... \")\n",
        "input(\"你猜小明說了什麼? \")\n",
        "print(\"小明:「你猜啊!你猜猜看啊!」 \")\n",
        "\n",
        "print(\"📞:是不是很好笑!好，我笑話講完了。晚安唷麻吉^3^ \")\n",
        "print(\"嘟...嘟...嘟...(被掛電話) \")\n",
        "print(\"♫ 最怕空氣突然安靜 ♫ \")"
      ],
      "execution_count": 44,
      "outputs": [
        {
          "output_type": "stream",
          "text": [
            "鈴鈴鈴~鈴鈴鈴~(電話聲)\n",
            "狀態:凌晨三點被電話聲吵醒的你接起了電話。 \n",
            "📞:嗨!我是你麻吉啦。想問你現在心情如何？ 不爽\n",
            "我現在很開心。快問我「為什麼」!求你啦Q_Q 不要\n",
            "因為我剛剛聽到一個超好笑的笑話!你想聽嗎? 不用\n",
            "不管你想不想聽，我還是想講~哈哈哈哈哈! \n",
            "📞:啊對了，你要先笑三聲我才開始講。因為我怕你睡著了:D 哈...\n",
            "那廢話不多說，我要開始講笑話了^u^ \n",
            "📞:某次生物考試中，有一題題目是「看鳥腳的圖片，寫出鳥的名字」 \n",
            "小明一看到題目就很傻眼\n",
            "小明:「傻眼」\n",
            "所以他邊不爽邊把考卷撕掉走出考場 \n",
            "監考老師看見急忙叫住他，並說:「同學你回來!你叫什麼名字!」 \n",
            "小明彎下腰、捲起褲管，並拍拍自己的大腿... \n",
            "你猜小明說了什麼? 不知道\n",
            "小明:「你猜啊!你猜猜看啊!」 \n",
            "📞:是不是很好笑!好，我笑話講完了。晚安唷麻吉^3^ \n",
            "嘟...嘟...嘟...(被掛電話) \n",
            "♫ 最怕空氣突然安靜 ♫ \n"
          ],
          "name": "stdout"
        }
      ]
    }
  ]
}