{
  "nbformat": 4,
  "nbformat_minor": 0,
  "metadata": {
    "kernelspec": {
      "display_name": "Python 3",
      "language": "python",
      "name": "python3"
    },
    "language_info": {
      "codemirror_mode": {
        "name": "ipython",
        "version": 3
      },
      "file_extension": ".py",
      "mimetype": "text/x-python",
      "name": "python",
      "nbconvert_exporter": "python",
      "pygments_lexer": "ipython3",
      "version": "3.8.5"
    },
    "colab": {
      "name": "張凱琳-Week13-練習作業.ipynb",
      "provenance": [],
      "include_colab_link": true
    }
  },
  "cells": [
    {
      "cell_type": "markdown",
      "metadata": {
        "id": "view-in-github",
        "colab_type": "text"
      },
      "source": [
        "<a href=\"https://colab.research.google.com/github/A109010090/Computational-Thinking-and-Program-Design/blob/main/%E5%BC%B5%E5%87%B1%E7%90%B3_Week13_%E7%B7%B4%E7%BF%92%E4%BD%9C%E6%A5%AD.ipynb\" target=\"_parent\"><img src=\"https://colab.research.google.com/assets/colab-badge.svg\" alt=\"Open In Colab\"/></a>"
      ]
    },
    {
      "cell_type": "markdown",
      "metadata": {
        "id": "93KceCry0DJz"
      },
      "source": [
        "## 2.  雙向選擇\n"
      ]
    },
    {
      "cell_type": "markdown",
      "metadata": {
        "id": "_7_8CWwKck7n"
      },
      "source": [
        "#### 範例: 判斷及格與不及格"
      ]
    },
    {
      "cell_type": "code",
      "metadata": {
        "colab": {
          "base_uri": "https://localhost:8080/"
        },
        "id": "QP6gF42xblfv",
        "outputId": "fb049c74-4be0-4906-e80a-ae4e3dd94587"
      },
      "source": [
        "score = int(input('請輸入一個成績？'))\n",
        "if score >= 60:\n",
        "  print('有及格ㄡ～')\n",
        "else:\n",
        "  print('不及格ㄟ！')     "
      ],
      "execution_count": 5,
      "outputs": [
        {
          "output_type": "stream",
          "text": [
            "請輸入一個成績？88\n",
            "有及格ㄡ～\n"
          ],
          "name": "stdout"
        }
      ]
    },
    {
      "cell_type": "code",
      "metadata": {
        "colab": {
          "base_uri": "https://localhost:8080/"
        },
        "id": "nfTpsj_PDvJD",
        "outputId": "0c8b8d84-cf89-4d5a-9b54-18298bfa6830"
      },
      "source": [
        "score = int(input('請輸入一個成績?'))\n",
        "\n",
        "if score >= 80:\n",
        "   print(\"Well Done.\")\n",
        "elif score >=60:\n",
        "   print(\"Pass.\")\n",
        "else:\n",
        "   print(\"Fail.\")"
      ],
      "execution_count": null,
      "outputs": [
        {
          "output_type": "stream",
          "text": [
            "請輸入一個成績?85\n",
            "Well done.\n"
          ],
          "name": "stdout"
        }
      ]
    },
    {
      "cell_type": "code",
      "metadata": {
        "colab": {
          "base_uri": "https://localhost:8080/"
        },
        "id": "JfYz5c3HDz1v",
        "outputId": "02082a8f-7966-432d-add8-c3dbce700d61"
      },
      "source": [
        "score = int(input('請輸入一個成績?'))\n",
        "\n",
        "if score >= 80:\n",
        "   print(\"Well Done.\")\n",
        "else:\n",
        "   if score >=60:\n",
        "       print(\"Pass.\")\n",
        "   else:\n",
        "       print(\"Fail.\")"
      ],
      "execution_count": null,
      "outputs": [
        {
          "output_type": "stream",
          "text": [
            "請輸入一個成績?85\n",
            "Well done.\n"
          ],
          "name": "stdout"
        }
      ]
    },
    {
      "cell_type": "markdown",
      "metadata": {
        "id": "xuHsGydv0DJ1"
      },
      "source": [
        "## 3. 多向選擇\n"
      ]
    },
    {
      "cell_type": "markdown",
      "metadata": {
        "id": "QyRVPJMoczWW"
      },
      "source": [
        "#### 範例：兩個數比大小"
      ]
    },
    {
      "cell_type": "code",
      "metadata": {
        "id": "z2GQVQjW0DJ2",
        "colab": {
          "base_uri": "https://localhost:8080/"
        },
        "outputId": "b3ca0e08-747d-42f9-bca1-c497fd34bf75"
      },
      "source": [
        " ## Input\n",
        "num1 = int(input(\"Please input a number: \"))\n",
        "num2 = int(input(\"Please input another number: \"))\n",
        " \n",
        " ## Process＋ Output\n",
        "if num1 == num2:\n",
        "  print(num1, \"等於\", num2)\n",
        "elif num1 < num2:\n",
        "  print(num1, \"小於\", num2)\n",
        "else:\n",
        "  print(num1, \"大於\", num2)"
      ],
      "execution_count": 6,
      "outputs": [
        {
          "output_type": "stream",
          "text": [
            "Please input a number: 5\n",
            "Please input another number: 8\n",
            "5 小於 8\n"
          ],
          "name": "stdout"
        }
      ]
    },
    {
      "cell_type": "markdown",
      "metadata": {
        "id": "wSoBMkVedH9V"
      },
      "source": [
        "#### 範例 : 郵資計算\n",
        "某快遞公司以重量為計算郵資的依據,重量與郵資計算如下表,請寫一個程式協助快遞人員計算郵資,快遞人員只要輸入重量,程式自動計算郵資。"
      ]
    },
    {
      "cell_type": "code",
      "metadata": {
        "id": "wGN6Iulf0DJ2",
        "colab": {
          "base_uri": "https://localhost:8080/"
        },
        "outputId": "a521048f-356f-4fd3-d871-787ac4224bd7"
      },
      "source": [
        " ## 郵資計算\n",
        "w = float(input('請輸入物品重量？')) # Input\n",
        "if w <= 5:                          \n",
        "  print(\"所需郵資為50元\")\n",
        "elif w <= 10:\n",
        "  print('所需郵資為70元')\n",
        "elif w <= 15:\n",
        "  print('所需郵資為90元')\n",
        "elif w <= 20:\n",
        "  print('所需郵資為110元')\n",
        "else:\n",
        "  print('超過20公斤無法寄送')\n"
      ],
      "execution_count": 9,
      "outputs": [
        {
          "output_type": "stream",
          "text": [
            "請輸入物品重量？20\n",
            "所需郵資為110元\n"
          ],
          "name": "stdout"
        }
      ]
    },
    {
      "cell_type": "code",
      "metadata": {
        "colab": {
          "base_uri": "https://localhost:8080/"
        },
        "id": "ZkIfcPee3FaN",
        "outputId": "2f5b90db-7901-4255-f2b5-a5d6510fad6b"
      },
      "source": [
        "weight = input(\"Give me weight \")\n",
        "weight = float(weight)\n",
        "\n",
        "if weight <= 5:\n",
        "    print(\"Pay 50\")\n",
        "elif weight <= 10:\n",
        "    print(\"Pay 70\")\n",
        "elif weight <= 15:\n",
        "    print(\"Pay 90\")\n",
        "elif weight <= 20:\n",
        "    print(\"Pay 110\")\n",
        "else:\n",
        "    print(\"Connot sent\")"
      ],
      "execution_count": 19,
      "outputs": [
        {
          "output_type": "stream",
          "text": [
            "Give me weight 18\n",
            "Pay 110\n"
          ],
          "name": "stdout"
        }
      ]
    },
    {
      "cell_type": "markdown",
      "metadata": {
        "id": "Kw0WlSvZ7Weo"
      },
      "source": [
        "##隨堂練習： 三⼀律\n",
        "\n",
        "請輸入⼀個數，然後判斷這個數是正數、是負數或者是零。"
      ]
    },
    {
      "cell_type": "code",
      "metadata": {
        "colab": {
          "base_uri": "https://localhost:8080/"
        },
        "id": "4tvJ-pM9DeEC",
        "outputId": "a1156401-69da-4821-db93-e2f56e5dfb2a"
      },
      "source": [
        "## 方法1:單向選擇\n",
        "num = int(input(\"Pick a number: \"))\n",
        "if num > 0:\n",
        "  print(\"Your number is positive.\")\n",
        "if num < 0:\n",
        "  print(\"Your number is negative.\")\n",
        "if num == 0:\n",
        "  print(\"Your number is zero.\")\n",
        "print(\"Finished.\")"
      ],
      "execution_count": 4,
      "outputs": [
        {
          "output_type": "stream",
          "text": [
            "Pick a number: 1\n",
            "Your number is positive.\n",
            "Finished.\n"
          ],
          "name": "stdout"
        }
      ]
    },
    {
      "cell_type": "code",
      "metadata": {
        "colab": {
          "base_uri": "https://localhost:8080/"
        },
        "id": "De-sU7DQFf_9",
        "outputId": "8273b40c-1eb7-4ee6-de7a-c18b5598fdae"
      },
      "source": [
        "## 方法2:雙向選擇+巢狀選擇\n",
        "num = int(input(\"Pick a number: \"))\n",
        "if num > 0:\n",
        "  print(\"Your number is positive.\")\n",
        "else:\n",
        "  if num < 0:\n",
        "    print(\"Your number is negative.\")\n",
        "  else:\n",
        "    print(\"Your number is zero.\")\n",
        "print(\"Finished.\")"
      ],
      "execution_count": 5,
      "outputs": [
        {
          "output_type": "stream",
          "text": [
            "Pick a number: 2\n",
            "Your number is positive.\n",
            "Finished.\n"
          ],
          "name": "stdout"
        }
      ]
    },
    {
      "cell_type": "code",
      "metadata": {
        "colab": {
          "base_uri": "https://localhost:8080/"
        },
        "id": "jO8DntmcF5WZ",
        "outputId": "909cb6e3-7c78-450a-b05a-5615de1cd7da"
      },
      "source": [
        "## 方法3:多向選擇\n",
        "num = int(input(\"Pick a number: \"))\n",
        "if num > 0:\n",
        "  print(\"Your number is positive.\")\n",
        "elif num < 0:\n",
        "  print(\"Your number is negative.\")\n",
        "else:\n",
        "  print(\"Your number is zero.\")\n",
        "print(\"Finished.\")"
      ],
      "execution_count": 6,
      "outputs": [
        {
          "output_type": "stream",
          "text": [
            "Pick a number: 0\n",
            "Your number is zero.\n",
            "Finished.\n"
          ],
          "name": "stdout"
        }
      ]
    },
    {
      "cell_type": "markdown",
      "metadata": {
        "id": "twB8PewIGORk"
      },
      "source": [
        "##加分練習： 三⼀律延伸\n",
        "\n",
        "請輸入兩個數，然後判斷這兩個數是正數、是負數或者是零。\n",
        "\n",
        "提示:用兩個巢狀多向迴圈"
      ]
    },
    {
      "cell_type": "code",
      "metadata": {
        "colab": {
          "base_uri": "https://localhost:8080/"
        },
        "id": "_VnI5sSzLMgh",
        "outputId": "3be835ae-22fe-4e67-c5e0-58bc899d4217"
      },
      "source": [
        "numA = int(input(\"Pick one number: \"))\n",
        "numB = int(input(\"Pick the other number: \"))\n",
        "if (numA > 0 and numB > 0):\n",
        " print(\"Your numberA and numberB are positive.\")\n",
        "elif (numA < 0 and numB < 0):\n",
        " print(\"Your numberA and numberB are negative.\")\n",
        "else:\n",
        "  if (numA > 0 and numB < 0):\n",
        "   print(\"Your numberA is positive and numberB is negative.\")\n",
        "  if (numA < 0 and numB > 0):\n",
        "   print(\"Your numberA is negative and numberB is positive.\")\n",
        "  if (numA == 0 and numB == 0):\n",
        "   print(\"Your numberA and numberB are zero.\")\n",
        "print(\"Finished.\")"
      ],
      "execution_count": 24,
      "outputs": [
        {
          "output_type": "stream",
          "text": [
            "Pick one number: 1\n",
            "Pick the other number: -1\n",
            "Your numberA is positive and numberB is negative.\n",
            "Finished.\n"
          ],
          "name": "stdout"
        }
      ]
    },
    {
      "cell_type": "markdown",
      "metadata": {
        "id": "0AMj_T3iELZq"
      },
      "source": [
        "##課後練習: 練習5 體溫與發燒\n",
        "\n",
        "設計程式根據體溫判斷是否發燒,由使用者輸入體溫,程式判斷是否發燒,\n",
        "\n",
        "假設體溫小於36度,顯示「體溫過低」,體溫大於等於36度小於38度,顯示「體溫正常」,否則若體溫大於等於38度小於39度,顯示「體溫有點燒」,否則體溫大於等於39度,顯示「體溫很燒」。輸入體溫「36.5」,輸出為「體溫正常」。\n",
        "\n",
        "~程式執行結果如下。\n",
        "\n",
        "請輸入體溫?36.5\n",
        "\n",
        "體溫正常"
      ]
    },
    {
      "cell_type": "code",
      "metadata": {
        "colab": {
          "base_uri": "https://localhost:8080/"
        },
        "id": "lDyrj57cHgM8",
        "outputId": "e5d78c46-ca93-42ac-fb6a-cd279befab5d"
      },
      "source": [
        "temp = float(input(\"請輸入體溫?\"))\n",
        "if (temp < 36):\n",
        "  print(\"體溫過低\")\n",
        "elif (temp < 38):\n",
        "  print(\"體溫正常\")\n",
        "elif (temp < 39):\n",
        "  print(\"體溫有點燒\")\n",
        "else:\n",
        "  print(\"體溫很燒\")"
      ],
      "execution_count": 7,
      "outputs": [
        {
          "output_type": "stream",
          "text": [
            "請輸入體溫?36.5\n",
            "體溫正常\n"
          ],
          "name": "stdout"
        }
      ]
    },
    {
      "cell_type": "markdown",
      "metadata": {
        "id": "BAeuXJeUH3NZ"
      },
      "source": [
        "##課後練習: 練習6 閏年判斷\n",
        "\n",
        "設計程式允許輸入⻄元幾年,請求出該年是否是閏年,閏年表示該年多一天,若為4的倍數稱做閏年,但\n",
        "若為100的倍數就不為閏年,且若為400倍數又是閏年。(四年一潤、百年不潤、四百年再潤)\n",
        "\n",
        "輸入年份「2012」,輸出為「2012是閏年」。\n",
        "\n",
        "~程式執行結果如下。\n",
        "\n",
        "請輸入年份?2012\n",
        "\n",
        "2012 是閏年"
      ]
    },
    {
      "cell_type": "code",
      "metadata": {
        "colab": {
          "base_uri": "https://localhost:8080/"
        },
        "id": "RDxtFFC2IPjn",
        "outputId": "c7be6ba5-3d90-4753-fd38-c80126aef786"
      },
      "source": [
        "year = int(input(\"請輸入年份?\"))\n",
        "if ((year % 400)== 0):\n",
        "  print(year, \"是閨年\")\n",
        "elif ((year % 100)== 0):\n",
        "  print(year, \"不是閨年\")\n",
        "elif ((year % 4)== 0):\n",
        "  print(year, \"是閨年\")\n",
        "else:\n",
        "  print(year, \"不是閨年\")"
      ],
      "execution_count": 8,
      "outputs": [
        {
          "output_type": "stream",
          "text": [
            "請輸入年份?2012\n",
            "2012 是閨年\n"
          ],
          "name": "stdout"
        }
      ]
    },
    {
      "cell_type": "markdown",
      "metadata": {
        "id": "e6fc3CLRIT-E"
      },
      "source": [
        "##課後練習: 練習12 計程車計費\n",
        "某城市計程車計費3公里以內6元,\n",
        "\n",
        "超過3公里不足10公里、每公里1.8元,\n",
        "\n",
        "超過10公里則超過部分加收50%。\n",
        "\n",
        "此外停車等候每3分鐘收1元,\n",
        "\n",
        "請用Python寫出車費是多少。"
      ]
    },
    {
      "cell_type": "code",
      "metadata": {
        "colab": {
          "base_uri": "https://localhost:8080/",
          "height": 129
        },
        "id": "uD7yHaAdIc5f",
        "outputId": "aab1527f-d370-4c40-9ef6-a9606c6dcd4a"
      },
      "source": [
        "kilometeor = int(input(\"請輸入公里數?\"))\n",
        "if (kilometeor <= 3):\n",
        "  print(\"車費6元\")\n",
        "elif ( kilometeor <= 10):\n",
        " print(\"車費\", (kilometeor * 1.8),\"元\")\n",
        "else:\n",
        "   if (kilometeor >= 10): \n",
        " print( \"車費\", 10 * 1.8 + (kilometer - 10) * (1.8 * 1.5), \"元\" )\n",
        "\n",
        "park = int(input(\"請輸入停車幾分鐘?\"))\n",
        "if print(\"停車費\",(park /3 ),\"元\") \n",
        "\n",
        "print(\"車費加停車費\", (kilometeor + park),\"元\")"
      ],
      "execution_count": 2,
      "outputs": [
        {
          "output_type": "error",
          "ename": "IndentationError",
          "evalue": "ignored",
          "traceback": [
            "\u001b[0;36m  File \u001b[0;32m\"<ipython-input-2-7e3affc1b4ac>\"\u001b[0;36m, line \u001b[0;32m8\u001b[0m\n\u001b[0;31m    print( \"車費\", 10 * 1.8 + (kilometer - 10) * (1.8 * 1.5), \"元\" )\u001b[0m\n\u001b[0m                                                                 ^\u001b[0m\n\u001b[0;31mIndentationError\u001b[0m\u001b[0;31m:\u001b[0m unindent does not match any outer indentation level\n"
          ]
        }
      ]
    },
    {
      "cell_type": "markdown",
      "metadata": {
        "id": "xSkc9Vb2R0JJ"
      },
      "source": [
        " # **解題思維(練習12)** \n",
        "\n",
        "<因為上面的程式過程有錯誤> \n",
        "\n",
        "-\n",
        "## 車費\n",
        "①【3公里以內6元】:\n",
        "車費6元\n",
        "\n",
        "②【超過3公里不足10公里、每公里1.8元】:\n",
        "假設開了4公里。車費為 4<預設> * 1.8 元\n",
        "\n",
        "③【超過10公里則超過部分加收50%】:\n",
        "假設開了11公里。因為開超過10公里，所以要先以\"第二種方式\"計價(只有算11公里內的10公里，超過的另算)→ 10*1.8\n",
        "\n",
        "但是超過規定10公里的那1公里，要以\"第三種方式\"計價\n",
        "→(假設的11公里-規定的10公里)* (1.8 * 超過部分加收1.5)\n",
        "→→(11<預設> - 10) * (1.8 * 1.5)\n",
        "\n",
        "-\n",
        "## 停車費\n",
        "【停車等候每3分鐘收1元】:\n",
        "以3分鐘計<輸入的數字除3>。\n",
        "\n",
        "但因為題目有瑕疵，沒有清楚說明如果停車在\"3分鐘內\"，是否要算錢或直接收1元 ；以及\"不整除於3的小數點\"，是否要捨棄或直接進位+1，所以我只有列出最簡單的 \"/3\"。\n",
        "\n",
        "-\n",
        "\n",
        "### ***花費總額為 = 車費 kilometeor + 停車費 park***"
      ]
    }
  ]
}