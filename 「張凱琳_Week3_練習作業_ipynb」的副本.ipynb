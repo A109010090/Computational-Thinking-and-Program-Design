{
  "nbformat": 4,
  "nbformat_minor": 0,
  "metadata": {
    "colab": {
      "name": "「張凱琳-Week3-練習作業.ipynb」的副本",
      "provenance": [],
      "authorship_tag": "ABX9TyOHS/9iZeyv5pH4No10P7r9",
      "include_colab_link": true
    },
    "kernelspec": {
      "name": "python3",
      "display_name": "Python 3"
    }
  },
  "cells": [
    {
      "cell_type": "markdown",
      "metadata": {
        "id": "view-in-github",
        "colab_type": "text"
      },
      "source": [
        "<a href=\"https://colab.research.google.com/github/A109010090/Computational-Thinking-and-Program-Design/blob/main/%E3%80%8C%E5%BC%B5%E5%87%B1%E7%90%B3_Week3_%E7%B7%B4%E7%BF%92%E4%BD%9C%E6%A5%AD_ipynb%E3%80%8D%E7%9A%84%E5%89%AF%E6%9C%AC.ipynb\" target=\"_parent\"><img src=\"https://colab.research.google.com/assets/colab-badge.svg\" alt=\"Open In Colab\"/></a>"
      ]
    },
    {
      "cell_type": "markdown",
      "metadata": {
        "id": "is5sre54Nstk"
      },
      "source": [
        "#隨堂練習"
      ]
    },
    {
      "cell_type": "markdown",
      "metadata": {
        "id": "RUmDvmb0Rfdd"
      },
      "source": [
        "*學科精神-用電腦解決問題\r\n"
      ]
    },
    {
      "cell_type": "markdown",
      "metadata": {
        "id": "liCqmn-BX3rX"
      },
      "source": [
        "*運算思維是一種思考過程。(可訓練)"
      ]
    },
    {
      "cell_type": "markdown",
      "metadata": {
        "id": "XuiT1dAabLlu"
      },
      "source": [
        "*用電腦解決問題四步驟: 1.運算思維 2.程式設計 / 3.程式編碼 4.測試除錯"
      ]
    },
    {
      "cell_type": "markdown",
      "metadata": {
        "id": "rLhE_xn8OIGN"
      },
      "source": [
        "#課後練習"
      ]
    },
    {
      "cell_type": "markdown",
      "metadata": {
        "id": "PeWcH464Q8Q2"
      },
      "source": [
        "**從一則新聞報導，提出你對新聞系（OO系）學生為什麼要學「運算思維與程式設計」的見解。（告訴我新聞連結，以及你的觀點即可。）**"
      ]
    },
    {
      "cell_type": "markdown",
      "metadata": {
        "id": "DSXfdLj3TwpN"
      },
      "source": [
        "  現今社會與企業尋求𝝿型人才的趨勢日益上升。學校利用「運算思維與程式設計」課程，使新聞系學生除了學習本科專業外，也能透過此課程培養結合人文(新聞專業)與科技(程式語言)的人才。\r\n",
        "  就算未來從事工作與其毫無相關時，也能應用於生活中方便行事。如同作者在文章中說到「多會一種工具讓你更有彈性，用對工具做事效率更高。」學習程式語言培養運算思維的根本精神,我想大抵就是如此。[連結文字](https://medium.com/dd-story-hub/p-實習經驗談-新聞編輯為什麼要學程式設計-bb375fc83bf6)"
      ]
    },
    {
      "cell_type": "code",
      "metadata": {
        "id": "HLA-Qjw7WwRD"
      },
      "source": [
        ""
      ],
      "execution_count": null,
      "outputs": []
    }
  ]
}