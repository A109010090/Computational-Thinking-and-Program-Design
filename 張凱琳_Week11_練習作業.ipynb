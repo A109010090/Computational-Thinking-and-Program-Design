{
  "nbformat": 4,
  "nbformat_minor": 0,
  "metadata": {
    "colab": {
      "name": "張凱琳- Week11 - 練習作業.ipynb",
      "provenance": [],
      "authorship_tag": "ABX9TyMBQTxWu/Ye9tG4JJGsHIqh",
      "include_colab_link": true
    },
    "kernelspec": {
      "name": "python3",
      "display_name": "Python 3"
    },
    "language_info": {
      "name": "python"
    }
  },
  "cells": [
    {
      "cell_type": "markdown",
      "metadata": {
        "id": "view-in-github",
        "colab_type": "text"
      },
      "source": [
        "<a href=\"https://colab.research.google.com/github/A109010090/Computational-Thinking-and-Program-Design/blob/main/%E5%BC%B5%E5%87%B1%E7%90%B3_Week11_%E7%B7%B4%E7%BF%92%E4%BD%9C%E6%A5%AD.ipynb\" target=\"_parent\"><img src=\"https://colab.research.google.com/assets/colab-badge.svg\" alt=\"Open In Colab\"/></a>"
      ]
    },
    {
      "cell_type": "markdown",
      "metadata": {
        "id": "h4jff7Rur_gH"
      },
      "source": [
        "## 1. 布林值\n",
        "\n",
        "### 1-1 真值與假值"
      ]
    },
    {
      "cell_type": "code",
      "metadata": {
        "id": "KC9CperpuuyZ"
      },
      "source": [
        "In [1]: ## 布林只有 True 與 False 這兩個值。\n",
        "   ...: True\n",
        "   ...: False\n",
        "    \n",
        "In [2]: ## 請注意大小寫不同\n",
        "   ...: true\n",
        "   ...: false\n",
        "   ...: TRUE\n",
        "   ...: FALSE\n",
        "Traceback (most recent call last):\n",
        "\n",
        "  File \"<ipython-input-2-7729cf8819e0>\", line 6, in <module>\n",
        "    true\n",
        "\n",
        "NameError: name 'true' is not defined\n",
        "\n",
        "In [3]: ## 查看資料的種類\n",
        "   ...: type(True)\n",
        "   ...: type(False)\n",
        "bool\n",
        "bool"
      ],
      "execution_count": null,
      "outputs": []
    },
    {
      "cell_type": "markdown",
      "metadata": {
        "id": "6TaX1K_esIQw"
      },
      "source": [
        "### 1-2 建立布林值與數學運算\n",
        "\n",
        "#### 建立布林值"
      ]
    },
    {
      "cell_type": "code",
      "metadata": {
        "colab": {
          "base_uri": "https://localhost:8080/"
        },
        "id": "cZrdZ1BFsBgf",
        "outputId": "1bc736ef-cb02-4ff8-99dd-cd75d9187551"
      },
      "source": [
        "In [1]: ## 方法（一）：直接鍵入True或False\n",
        "   ...: True\n",
        "   ...: False\n",
        "True\n",
        "False\n",
        "\n",
        "In [2]: ## 方法（二）：用bool()函式建立。\n",
        "   ...: bool(1)\n",
        "   ...: bool(0)\n",
        "True\n",
        "False  "
      ],
      "execution_count": null,
      "outputs": [
        {
          "output_type": "execute_result",
          "data": {
            "text/plain": [
              "False"
            ]
          },
          "metadata": {
            "tags": []
          },
          "execution_count": 36
        }
      ]
    },
    {
      "cell_type": "markdown",
      "metadata": {
        "id": "EDjQXV4UsNFX"
      },
      "source": [
        "### 1-2 建立布林值與數學運算\n",
        "\n",
        "#### 布林值可視為數值資料做數學運算"
      ]
    },
    {
      "cell_type": "code",
      "metadata": {
        "colab": {
          "base_uri": "https://localhost:8080/"
        },
        "id": "HE6-KoPpsPhW",
        "outputId": "d5b9c78b-6773-4f7f-d876-0828fec0fbaa"
      },
      "source": [
        "In [2]: ## True 跟數值 1 相等； False 跟數值 0 相等\n",
        "   ...: False == 0\n",
        "   ...: True == 1\n",
        "True\n",
        "True\n",
        "\n",
        "In [3]: ## 數值運算中可以納入了布林。\n",
        "   ...: False + 3 # False為0\n",
        "   ...: True + 3 # True為1\n",
        "3\n",
        "4"
      ],
      "execution_count": null,
      "outputs": [
        {
          "output_type": "execute_result",
          "data": {
            "text/plain": [
              "4"
            ]
          },
          "metadata": {
            "tags": []
          },
          "execution_count": 4
        }
      ]
    },
    {
      "cell_type": "markdown",
      "metadata": {
        "id": "L58mPZVssRsn"
      },
      "source": [
        "## 2. 關係條件比較\n",
        "\n",
        "### 2-1 布林條件判斷式"
      ]
    },
    {
      "cell_type": "code",
      "metadata": {
        "id": "CVe_na8hsUqe"
      },
      "source": [
        "In [1]: player_score = 0 # 這會把0放入變數Player_score\n",
        "   ...: player_score == 0 # 這會檢查player_Scor裡的值是否為0\n",
        "Out[1]: True\n",
        "    \n",
        "In [2]: name = \"Zoe\" # 將變數name設為值Zoe\n",
        "   ...: name == \"zoe\"\n",
        "Out[2]: False   "
      ],
      "execution_count": null,
      "outputs": []
    },
    {
      "cell_type": "markdown",
      "metadata": {
        "id": "iO3XId_Hsc-P"
      },
      "source": [
        "### 2-2 關係運算子\n",
        "\n",
        "常見的關係運算子共有六個==、!=、>、>=、<、<=。"
      ]
    },
    {
      "cell_type": "code",
      "metadata": {
        "colab": {
          "base_uri": "https://localhost:8080/"
        },
        "id": "7wX7beOEseFX",
        "outputId": "e2fb4a6d-d6aa-40a5-dfb6-68865a03054f"
      },
      "source": [
        "In [1]: ## 布林（一）：比較關係運算子 = 比較運算子 = 關係運算子\n",
        "   ...: ## 比較運算子用於比較兩數的大於、小於和等於關係。\n",
        "   ...: \n",
        "   ...: print(8 == 7) # 判斷 8 是否等於 7，請注意不要混淆＝和==。\n",
        "   ...: print(8 != 7) # 判斷 8 是否不等於 7\n",
        "   ...: print(8 > 7) # 判斷 8 是否大於 7\n",
        "   ...: print(8 >= 7) # 判斷 8 是否大於等於 7\n",
        "   ...: print(8 < 7) # 判斷 8 是否小於 7\n",
        "   ...: print(8 <= 7) # 判斷 8 是否小於等於 7"
      ],
      "execution_count": null,
      "outputs": [
        {
          "output_type": "stream",
          "text": [
            "False\n",
            "True\n",
            "True\n",
            "True\n",
            "False\n",
            "False\n"
          ],
          "name": "stdout"
        }
      ]
    },
    {
      "cell_type": "code",
      "metadata": {
        "colab": {
          "base_uri": "https://localhost:8080/"
        },
        "id": "KV0IA085sjfX",
        "outputId": "b7048a3f-9295-4869-9d3c-347ae22244b9"
      },
      "source": [
        "In [8]: ## 資料篩選\n",
        "   ...: ## 電腦評分是否高於8分\n",
        "   ...: \n",
        "   ...: movie_rating = 8.8\n",
        "   ...: print(movie_rating > 8.0)\n",
        "   ...: print(type(movie_rating > 8.0))"
      ],
      "execution_count": null,
      "outputs": [
        {
          "output_type": "stream",
          "text": [
            "True\n",
            "<class 'bool'>\n"
          ],
          "name": "stdout"
        }
      ]
    },
    {
      "cell_type": "markdown",
      "metadata": {
        "id": "vwoBjA-BslJY"
      },
      "source": [
        "**隨堂練習 1：請輸入身分證字號，並判斷尾數是否為奇數?** "
      ]
    },
    {
      "cell_type": "code",
      "metadata": {
        "colab": {
          "base_uri": "https://localhost:8080/"
        },
        "id": "AQHCaWR6t9oR",
        "outputId": "6e4f8e34-ef8d-4673-aa86-71dca127a0ba"
      },
      "source": [
        "# 判斷尾數是否為奇數\n",
        "# 如果是偶數除 2 餘數為 0 ；餘數為 1 則為奇數\n",
        " \n",
        "num = int(input(\"輸入一個數字: \"))\n",
        "if (num % 2) == 0:\n",
        "   print(\"{0} 不是奇數，是偶數\".format(num))\n",
        "else:\n",
        "   print(\"{0} 是奇數\".format(num))"
      ],
      "execution_count": null,
      "outputs": [
        {
          "output_type": "stream",
          "text": [
            "輸入一個數字: 6\n",
            "6 不是奇數，是偶數\n"
          ],
          "name": "stdout"
        }
      ]
    },
    {
      "cell_type": "markdown",
      "metadata": {
        "id": "TuXtqH8zss0X"
      },
      "source": [
        "## 3. 邏輯的運算\n",
        "\n",
        "### 3-2 邏輯運算子\n",
        "\n",
        "**邏輯運算子有三種運算子，and（而且）、or（或）、not（相反）。**"
      ]
    },
    {
      "cell_type": "code",
      "metadata": {
        "colab": {
          "base_uri": "https://localhost:8080/"
        },
        "id": "CWx8NGZastJW",
        "outputId": "bdfdd2c6-93d2-4ddd-943b-05e60e674443"
      },
      "source": [
        "## 三種邏輯運算子（一）:且(and)\n",
        "In [1]: print(True and False) # 判斷 True 與 False 的交集\n",
        "   ...: print(True and True)\n",
        "   ...: print(False and False)\n",
        "   ...: print(False and True)\n",
        "   ...: "
      ],
      "execution_count": null,
      "outputs": [
        {
          "output_type": "stream",
          "text": [
            "False\n",
            "True\n",
            "False\n",
            "False\n"
          ],
          "name": "stdout"
        }
      ]
    },
    {
      "cell_type": "code",
      "metadata": {
        "colab": {
          "base_uri": "https://localhost:8080/"
        },
        "id": "pwZ-iDYmszqo",
        "outputId": "abd43d0f-cdb8-4289-b9f8-8d6155a24532"
      },
      "source": [
        "## 三種邏輯運算子（二）:或(or)\n",
        "In [2]: print(True or False) # 判斷 True 與 False 的聯集\n",
        "   ...: print(True or True)\n",
        "   ...: print(False or False)\n",
        "   ...: print(False or True)"
      ],
      "execution_count": null,
      "outputs": [
        {
          "output_type": "stream",
          "text": [
            "True\n",
            "True\n",
            "False\n",
            "True\n"
          ],
          "name": "stdout"
        }
      ]
    },
    {
      "cell_type": "code",
      "metadata": {
        "colab": {
          "base_uri": "https://localhost:8080/"
        },
        "id": "_8juK41Ksz-2",
        "outputId": "4a6aad41-0262-4b4c-fa6b-4c8ce71968f9"
      },
      "source": [
        "## 三種邏輯運算子（三）:非(not)。\n",
        "In [3]: print(not True) # False\n",
        "   ...: print(not False) # True\n",
        "   ...: print(not(8 > 7)) # 反轉 8 是否大於 7 的判斷"
      ],
      "execution_count": null,
      "outputs": [
        {
          "output_type": "stream",
          "text": [
            "False\n",
            "True\n",
            "False\n"
          ],
          "name": "stdout"
        }
      ]
    },
    {
      "cell_type": "code",
      "metadata": {
        "id": "XaLsBJDds1rn"
      },
      "source": [
        "In [8]: x = 70\n",
        "\n",
        "In [9]: ((x > 60) and (x < 80))\n",
        "Out[9]: True\n",
        "\n",
        "In [10]: x = 60\n",
        "\n",
        "In [11]: ((x > 60) and (x < 80))\n",
        "Out[11]: False\n",
        "\n",
        "In [12]: ((x > 60) or (x < 80))\n",
        "Out[12]: True\n",
        "\n",
        "In [13]: not(x > 60)\n",
        "Out[13]: True"
      ],
      "execution_count": null,
      "outputs": []
    },
    {
      "cell_type": "markdown",
      "metadata": {
        "id": "3NlTkdI4s6RI"
      },
      "source": [
        "### 3-3 成員與身份運算子"
      ]
    },
    {
      "cell_type": "code",
      "metadata": {
        "colab": {
          "base_uri": "https://localhost:8080/"
        },
        "id": "BD_E_LCqs6kv",
        "outputId": "7dd2682c-c865-4789-b400-eaf6935f74a8"
      },
      "source": [
        "In [1]: ## 成員運算子\n",
        "    ...: ## 文字字串\n",
        "    ...: print(\"H\" in \"Hello world\") # 判斷H是否存在於Hello world 之中\n",
        "\n",
        "In [2]: ## 數字串列\n",
        "    ...: x = 1\n",
        "    ...: y = [1,2,3]\n",
        "    ...: print(x in y)\n",
        "    ...: print(x not in y)\n"
      ],
      "execution_count": null,
      "outputs": [
        {
          "output_type": "stream",
          "text": [
            "True\n",
            "True\n",
            "False\n"
          ],
          "name": "stdout"
        }
      ]
    },
    {
      "cell_type": "code",
      "metadata": {
        "colab": {
          "base_uri": "https://localhost:8080/"
        },
        "id": "BYtfHBtMs77n",
        "outputId": "3c04cc64-7a37-49c4-ed6d-79c9c63f67c5"
      },
      "source": [
        "In [3]: x = [1,2,3]\n",
        "    ...: y = [1,2,3]\n",
        "    ...: print(id(x),id(y)) #x 與y 的位址不同\n",
        "    ...: print(x is y) #x與y在電腦有不同的記憶空間，所以x是x、y是y。\n",
        "    ...: print(x == y) # x 與y 的值相等，True"
      ],
      "execution_count": null,
      "outputs": [
        {
          "output_type": "stream",
          "text": [
            "140278741729520 140278741866368\n",
            "False\n",
            "True\n"
          ],
          "name": "stdout"
        }
      ]
    },
    {
      "cell_type": "markdown",
      "metadata": {
        "id": "357w6MaVyFsp"
      },
      "source": [
        "#**期末報告**\n",
        "\n",
        "#組長(學號姓名):A109010090 張凱琳\n",
        "#組員(學號姓名):A109010045 張芳瑜、A109010126 康婕柔"
      ]
    },
    {
      "cell_type": "markdown",
      "metadata": {
        "id": "c_1vACAyyMVX"
      },
      "source": [
        "#題目: **機器人幫你做心理評估**"
      ]
    },
    {
      "cell_type": "markdown",
      "metadata": {
        "id": "c7n14RT_OejR"
      },
      "source": [
        "#腳本:\n",
        "**1.聊天機器人自我介紹 & 打招呼，取得對方名字**\n",
        "\n",
        "機器人:嗨！妳好，請問大名？\n",
        "\n",
        "你:(回答)\n",
        "\n",
        "機器人:<你的名字>，很高興認識你。我叫Robot，是一個聊天機器人。\n",
        "\n",
        "-\n",
        "\n",
        "**2.簡單的開頭對話，說明主題及答題方式**\n",
        "\n",
        "機器人:你常常會覺得心累做事提不起勁嗎?\n",
        "\n",
        "你:(回答)\n",
        "\n",
        "機器人:為什麼?\n",
        "\n",
        "你:(回答)\n",
        "\n",
        "機器人:沒關係。可以一起來做下面的心理評估喔!\n",
        "\n",
        "-\n",
        "\n",
        "**[介紹心理測驗]**\n",
        "\n",
        "你的厭世指數，用10個問題馬上測!\n",
        "以下問題若答案為No請回答0，為Yes請回答1。\n",
        "\n",
        "-\n",
        "\n",
        "**3.測驗開始作答**\n",
        "\n",
        "Q1.最近嘆氣的次數愈來愈多?<回答0/1>\n",
        "\n",
        "Q2.對人際交往感到厭煩，聽到手機響起就覺得煩躁無力?<回答0/1>\n",
        "\n",
        "Q3.不太在乎自己的穿著，對時裝也失去興趣?<回答0/1>\n",
        "\n",
        "Q4.認為運動好麻煩，會盡可能在家宅?<回答0/1>\n",
        "\n",
        "Q5.吃什麼都淡而無味，對美食失去興趣?<回答0/1>\n",
        "\n",
        "Q6.最近的活動範圍只有家裡、公司或學校?<回答0/1>\n",
        "\n",
        "Q7.明明有件事需要處理，卻遲遲未開始?<回答0/1>\n",
        "\n",
        "Q8.失去上進心，覺得「現在這樣也不錯」?<回答0/1>\n",
        "\n",
        "Q9.認為談戀愛是麻煩事?<回答0/1>\n",
        "\n",
        "Q10.放假時大多數時間都在睡覺?<回答0/1>\n",
        "\n",
        "-\n",
        "\n",
        "**4.分數計算**\n",
        "\n",
        "Total=(Q1+Q2+Q3+Q4+Q5+Q6+Q7+Q8+Q9+Q10)\n",
        "\n",
        "機器人:總分是<分數計算>。\n",
        "\n",
        "-\n",
        "\n",
        "**5.測驗結果**\n",
        "\n",
        "*0~2 個勾勾：繼續維持下去吧!恭喜你，你的心累指數只有10%！只要有想做的事情，你就會馬上去做，有想去的地方你也會馬上出發，每天都過得不無聊、滿充實的喔！內心變得充實的話，行動力也會隨之提高，相信你之後也會一步步的實現自己想做的事呢！繼續保持現在的良好狀態，試著接受不同的挑戰，吸收各式各樣的新事物吧！不過在努力的同時，也要記得好好休息喔！\n",
        "\n",
        "*3~5 個勾勾：要注意安撫情緒喔！你的心累指數是 40%，仍然是非常有活力的人。不過要小心一旦發生什麼事情，情緒可能容易變得消沉。你不是消極的人，反而是個努力家，但有時候過於努力，反而會造成疲倦與壓力。在到達極限之前，不如先抽個空讓自己好好休息。不然太過沉重的壓力有可能會壓垮你喔。\n",
        "\n",
        "*6~8 個勾勾：你已經有點危險了！你的心累指數是 60%，已經有點累了呢！但再這樣下去，壓力是不會消失的！你也是依然有想挑戰的新事物，但只有空想卻無法下定決心，只會讓時間一分一秒逝去。你可能心有餘而力不足，覺得有點不甘心；那就先試著從小小的挑戰開始做起吧！\n",
        "\n",
        "*9~10 個勾勾：「快樂」是你的頭號課題！你的厭世指數有 80%，非常的高喔！你的內心狀態非常疲倦，每天的生活也讓你感到乏味至極。如果什麼事都覺得無聊又無趣的話，是因為你的內心狀態已經很疲倦，也很久沒有展開笑容了吧？對你來說，現在最重要的就是找回你自己的時間，試著一步步找到喜歡並且感興趣的事，努力讓自己重新充滿活力，再度快樂起來吧！\n",
        "\n",
        "-\n",
        "\n",
        "**6.簡單道別**\n",
        "機器人:測驗做玩啦!你覺得有準嗎?\n",
        "\n",
        "你:(回答)\n",
        "\n",
        "機器人:嗯嗯!那改天再聊吧!希望下次見到你，你更健康快樂了喔!\n",
        "再見，<你的名字>。"
      ]
    },
    {
      "cell_type": "code",
      "metadata": {
        "colab": {
          "base_uri": "https://localhost:8080/"
        },
        "id": "1gGiyH54yJqL",
        "outputId": "40481c72-d027-496f-b3ba-49ce82073833"
      },
      "source": [
        "# 1.聊天機器人自我介紹 & 打招呼，取得對方名字\n",
        "name = input(\"嗨！妳好，請問大名？: \")\n",
        "print(name, \"很高興認識你\")\n",
        "print(\"我叫Robot，是一個聊天機器人。\")\n",
        "\n",
        "# 2. 簡單的開頭對話，說明主題及答題方式\n",
        "Introdution = \"你常常會覺得心累做事提不起勁嗎?\"\n",
        "print( Introdution )\n",
        "reason = input(\"為什麼： \")\n",
        "print(\"沒關係。可以一起來做下面的心理評估喔!\")\n",
        "print(\"你的厭世指數，用10個問題馬上測! 以下問題若答案為No請回答0，為Yes請回答1\")\n",
        "\n",
        "# 3. 測驗開始作答\n",
        "Q1=int(input(\"最近嘆氣的次數愈來愈多\"))\n",
        "Q2=int(input(\"對人際交往感到厭煩，聽到手機響起就覺得煩躁無力?\"))\n",
        "Q3=int(input(\"不太在乎自己的穿著，對時裝也失去興趣?\"))\n",
        "Q4=int(input(\"認為運動好麻煩，會盡可能在家宅\"))\n",
        "Q5=int(input(\"吃什麼都淡而無味，對美食失去興趣\"))\n",
        "Q6=int(input(\"最近的活動範圍只有家裡、公司或學校\"))\n",
        "Q7=int(input(\"明明有件事需要處理，卻遲遲未開始\"))\n",
        "Q8=int(input(\"失去上進心，覺得「現在這樣也不錯」\"))\n",
        "Q9=int(input(\"認為談戀愛是麻煩事\"))\n",
        "Q10=int(input(\"放假時大多數時間都在睡覺\"))\n",
        "\n",
        "# 4. 分數計算\n",
        "Total=(Q1+Q2+Q3+Q4+Q5+Q6+Q7+Q8+Q9+Q10)\n",
        "print(\"總分是\",Total)\n",
        "\n",
        "# 5. 測驗結果\n",
        "if Total <= 2:\n",
        "    print(\"0~2 個勾勾：繼續維持下去吧!恭喜你，你的心累指數只有10%！只要有想做的事情，你就會馬上去做，有想去的地方你也會馬上出發，每天都過得不無聊、滿充實的喔！內心變得充實的話，行動力也會隨之提高，相信你之後也會一步步的實現自己想做的事呢！繼續保持現在的良好狀態，試著接受不同的挑戰，吸收各式各樣的新事物吧！不過在努力的同時，也要記得好好休息喔！\")\n",
        "\n",
        "elif Total <= 5 and Total >= 3:\n",
        "    print(\"3~5 個勾勾：要注意安撫情緒喔！你的心累指數是 40%，仍然是非常有活力的人。不過要小心一旦發生什麼事情，情緒可能容易變得消沉。你不是消極的人，反而是個努力家，但有時候過於努力，反而會造成疲倦與壓力。在到達極限之前，不如先抽個空讓自己好好休息。不然太過沉重的壓力有可能會壓垮你喔。\")\n",
        "\n",
        "elif Total <= 8 and Total >= 6:\n",
        "    print(\"6~8 個勾勾：你已經有點危險了！你的心累指數是 60%，已經有點累了呢！但再這樣下去，壓力是不會消失的！你也是依然有想挑戰的新事物，但只有空想卻無法下定決心，只會讓時間一分一秒逝去。你可能心有餘而力不足，覺得有點不甘心；那就先試著從小小的挑戰開始做起吧！\")\n",
        "\n",
        "if Total >= 9:\n",
        "    print(\"9~10 個勾勾：「快樂」是你的頭號課題！你的厭世指數有 80%，非常的高喔！你的內心狀態非常疲倦，每天的生活也讓你感到乏味至極。如果什麼事都覺得無聊又無趣的話，是因為你的內心狀態已經很疲倦，也很久沒有展開笑容了吧？對你來說，現在最重要的就是找回你自己的時間，試著一步步找到喜歡並且感興趣的事，努力讓自己重新充滿活力，再度快樂起來吧！\")\n",
        "\n",
        "# 6. 簡單道別\n",
        "input(\"測驗做玩啦!你覺得有準嗎?\")\n",
        "print(\"嗯嗯!那改天再聊吧!希望下次見到你，你更健康快樂了喔!\")\n",
        "print(\"再見\",name)"
      ],
      "execution_count": null,
      "outputs": [
        {
          "output_type": "stream",
          "text": [
            "嗨！妳好，請問大名？: chang\n",
            "chang 很高興認識你\n",
            "我叫Robot，是一個聊天機器人。\n",
            "你常常會覺得心累做事提不起勁嗎?\n",
            "為什麼： 活著\n",
            "沒關係。可以一起來做下面的心理評估喔!\n",
            "你的厭世指數，用10個問題馬上測! 以下問題若答案為No請回答0，為Yes請回答1\n",
            "最近嘆氣的次數愈來愈多1\n",
            "對人際交往感到厭煩，聽到手機響起就覺得煩躁無力?0\n",
            "不太在乎自己的穿著，對時裝也失去興趣?0\n",
            "認為運動好麻煩，會盡可能在家宅1\n",
            "吃什麼都淡而無味，對美食失去興趣0\n",
            "最近的活動範圍只有家裡、公司或學校1\n",
            "明明有件事需要處理，卻遲遲未開始1\n",
            "失去上進心，覺得「現在這樣也不錯」1\n",
            "認為談戀愛是麻煩事1\n",
            "放假時大多數時間都在睡覺1\n",
            "總分是 7\n",
            "6~8 個勾勾：你已經有點危險了！你的心累指數是 60%，已經有點累了呢！但再這樣下去，壓力是不會消失的！你也是依然有想挑戰的新事物，但只有空想卻無法下定決心，只會讓時間一分一秒逝去。你可能心有餘而力不足，覺得有點不甘心；那就先試著從小小的挑戰開始做起吧！\n",
            "測驗做玩啦!你覺得有準嗎?準啦 哪次不準\n",
            "嗯嗯!那改天再聊吧!希望下次見到你，你更健康快樂了喔!\n",
            "再見 chang\n"
          ],
          "name": "stdout"
        }
      ]
    }
  ]
}